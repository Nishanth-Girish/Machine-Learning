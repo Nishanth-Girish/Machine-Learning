{
 "cells": [
  {
   "cell_type": "markdown",
   "id": "83d178d3",
   "metadata": {},
   "source": [
    "#  PCA and KNN Classifier"
   ]
  },
  {
   "cell_type": "code",
   "execution_count": 2,
   "id": "fde4428f",
   "metadata": {},
   "outputs": [],
   "source": [
    "# Importing necessary libraries:\n",
    "\n",
    "import numpy as np\n",
    "import pandas as pd\n",
    "import matplotlib.pyplot as plt\n",
    "\n",
    "from sklearn.decomposition import PCA\n",
    "\n",
    "from sklearn.model_selection import train_test_split ,StratifiedKFold, GridSearchCV\n",
    "\n",
    "from sklearn.neighbors import KNeighborsClassifier\n",
    "\n",
    "from sklearn.datasets import load_breast_cancer\n",
    "\n",
    "from sklearn.preprocessing import StandardScaler, MinMaxScaler\n",
    "\n",
    "from sklearn.pipeline import Pipeline\n",
    "\n",
    "from sklearn.linear_model import LogisticRegression\n",
    "\n",
    "from sklearn.metrics import confusion_matrix,accuracy_score,  roc_auc_score, classification_report\n",
    "import warnings\n",
    "warnings.filterwarnings('ignore')"
   ]
  },
  {
   "cell_type": "markdown",
   "id": "87cc7a0a",
   "metadata": {},
   "source": [
    "### 1. Use any standard data set and perform PCA on the data."
   ]
  },
  {
   "cell_type": "code",
   "execution_count": 3,
   "id": "38c188d4",
   "metadata": {
    "scrolled": true
   },
   "outputs": [],
   "source": [
    "# Loading the Breast Cancer dataset:\n",
    "\n",
    "breast_cancer = load_breast_cancer()"
   ]
  },
  {
   "cell_type": "code",
   "execution_count": 4,
   "id": "7d3040c9",
   "metadata": {},
   "outputs": [
    {
     "name": "stdout",
     "output_type": "stream",
     "text": [
      "['mean radius' 'mean texture' 'mean perimeter' 'mean area'\n",
      " 'mean smoothness' 'mean compactness' 'mean concavity'\n",
      " 'mean concave points' 'mean symmetry' 'mean fractal dimension'\n",
      " 'radius error' 'texture error' 'perimeter error' 'area error'\n",
      " 'smoothness error' 'compactness error' 'concavity error'\n",
      " 'concave points error' 'symmetry error' 'fractal dimension error'\n",
      " 'worst radius' 'worst texture' 'worst perimeter' 'worst area'\n",
      " 'worst smoothness' 'worst compactness' 'worst concavity'\n",
      " 'worst concave points' 'worst symmetry' 'worst fractal dimension']\n",
      "30\n"
     ]
    }
   ],
   "source": [
    "# Feature names:\n",
    "print(breast_cancer.feature_names)\n",
    "\n",
    "# No. of features:\n",
    "print(len(breast_cancer.feature_names))"
   ]
  },
  {
   "cell_type": "code",
   "execution_count": 5,
   "id": "20e3ff93",
   "metadata": {},
   "outputs": [
    {
     "name": "stdout",
     "output_type": "stream",
     "text": [
      "['malignant' 'benign']\n",
      "[[  0   1]\n",
      " [212 357]]\n"
     ]
    }
   ],
   "source": [
    "# Obtaining the target names\n",
    "print(breast_cancer.target_names)   # The target column in our dataset is 'diagnosis'. \n",
    "# We see that that the target names are 'malignant' and 'benign'. They represent whether the cancer is malignant or benign\n",
    "# 0 represents 'malignant' and 1 represents 'benign'.\n",
    "\n",
    "# No. of observations in each class of the target.\n",
    "print(np.array(np.unique(breast_cancer.target, return_counts=True)))"
   ]
  },
  {
   "cell_type": "code",
   "execution_count": 6,
   "id": "98d0fa63",
   "metadata": {},
   "outputs": [
    {
     "data": {
      "text/html": [
       "<div>\n",
       "<style scoped>\n",
       "    .dataframe tbody tr th:only-of-type {\n",
       "        vertical-align: middle;\n",
       "    }\n",
       "\n",
       "    .dataframe tbody tr th {\n",
       "        vertical-align: top;\n",
       "    }\n",
       "\n",
       "    .dataframe thead th {\n",
       "        text-align: right;\n",
       "    }\n",
       "</style>\n",
       "<table border=\"1\" class=\"dataframe\">\n",
       "  <thead>\n",
       "    <tr style=\"text-align: right;\">\n",
       "      <th></th>\n",
       "      <th>mean radius</th>\n",
       "      <th>mean texture</th>\n",
       "      <th>mean perimeter</th>\n",
       "      <th>mean area</th>\n",
       "      <th>mean smoothness</th>\n",
       "      <th>mean compactness</th>\n",
       "      <th>mean concavity</th>\n",
       "      <th>mean concave points</th>\n",
       "      <th>mean symmetry</th>\n",
       "      <th>mean fractal dimension</th>\n",
       "      <th>...</th>\n",
       "      <th>worst texture</th>\n",
       "      <th>worst perimeter</th>\n",
       "      <th>worst area</th>\n",
       "      <th>worst smoothness</th>\n",
       "      <th>worst compactness</th>\n",
       "      <th>worst concavity</th>\n",
       "      <th>worst concave points</th>\n",
       "      <th>worst symmetry</th>\n",
       "      <th>worst fractal dimension</th>\n",
       "      <th>diagnosis</th>\n",
       "    </tr>\n",
       "  </thead>\n",
       "  <tbody>\n",
       "    <tr>\n",
       "      <th>0</th>\n",
       "      <td>17.99</td>\n",
       "      <td>10.38</td>\n",
       "      <td>122.80</td>\n",
       "      <td>1001.0</td>\n",
       "      <td>0.11840</td>\n",
       "      <td>0.27760</td>\n",
       "      <td>0.30010</td>\n",
       "      <td>0.14710</td>\n",
       "      <td>0.2419</td>\n",
       "      <td>0.07871</td>\n",
       "      <td>...</td>\n",
       "      <td>17.33</td>\n",
       "      <td>184.60</td>\n",
       "      <td>2019.0</td>\n",
       "      <td>0.16220</td>\n",
       "      <td>0.66560</td>\n",
       "      <td>0.7119</td>\n",
       "      <td>0.2654</td>\n",
       "      <td>0.4601</td>\n",
       "      <td>0.11890</td>\n",
       "      <td>0</td>\n",
       "    </tr>\n",
       "    <tr>\n",
       "      <th>1</th>\n",
       "      <td>20.57</td>\n",
       "      <td>17.77</td>\n",
       "      <td>132.90</td>\n",
       "      <td>1326.0</td>\n",
       "      <td>0.08474</td>\n",
       "      <td>0.07864</td>\n",
       "      <td>0.08690</td>\n",
       "      <td>0.07017</td>\n",
       "      <td>0.1812</td>\n",
       "      <td>0.05667</td>\n",
       "      <td>...</td>\n",
       "      <td>23.41</td>\n",
       "      <td>158.80</td>\n",
       "      <td>1956.0</td>\n",
       "      <td>0.12380</td>\n",
       "      <td>0.18660</td>\n",
       "      <td>0.2416</td>\n",
       "      <td>0.1860</td>\n",
       "      <td>0.2750</td>\n",
       "      <td>0.08902</td>\n",
       "      <td>0</td>\n",
       "    </tr>\n",
       "    <tr>\n",
       "      <th>2</th>\n",
       "      <td>19.69</td>\n",
       "      <td>21.25</td>\n",
       "      <td>130.00</td>\n",
       "      <td>1203.0</td>\n",
       "      <td>0.10960</td>\n",
       "      <td>0.15990</td>\n",
       "      <td>0.19740</td>\n",
       "      <td>0.12790</td>\n",
       "      <td>0.2069</td>\n",
       "      <td>0.05999</td>\n",
       "      <td>...</td>\n",
       "      <td>25.53</td>\n",
       "      <td>152.50</td>\n",
       "      <td>1709.0</td>\n",
       "      <td>0.14440</td>\n",
       "      <td>0.42450</td>\n",
       "      <td>0.4504</td>\n",
       "      <td>0.2430</td>\n",
       "      <td>0.3613</td>\n",
       "      <td>0.08758</td>\n",
       "      <td>0</td>\n",
       "    </tr>\n",
       "    <tr>\n",
       "      <th>3</th>\n",
       "      <td>11.42</td>\n",
       "      <td>20.38</td>\n",
       "      <td>77.58</td>\n",
       "      <td>386.1</td>\n",
       "      <td>0.14250</td>\n",
       "      <td>0.28390</td>\n",
       "      <td>0.24140</td>\n",
       "      <td>0.10520</td>\n",
       "      <td>0.2597</td>\n",
       "      <td>0.09744</td>\n",
       "      <td>...</td>\n",
       "      <td>26.50</td>\n",
       "      <td>98.87</td>\n",
       "      <td>567.7</td>\n",
       "      <td>0.20980</td>\n",
       "      <td>0.86630</td>\n",
       "      <td>0.6869</td>\n",
       "      <td>0.2575</td>\n",
       "      <td>0.6638</td>\n",
       "      <td>0.17300</td>\n",
       "      <td>0</td>\n",
       "    </tr>\n",
       "    <tr>\n",
       "      <th>4</th>\n",
       "      <td>20.29</td>\n",
       "      <td>14.34</td>\n",
       "      <td>135.10</td>\n",
       "      <td>1297.0</td>\n",
       "      <td>0.10030</td>\n",
       "      <td>0.13280</td>\n",
       "      <td>0.19800</td>\n",
       "      <td>0.10430</td>\n",
       "      <td>0.1809</td>\n",
       "      <td>0.05883</td>\n",
       "      <td>...</td>\n",
       "      <td>16.67</td>\n",
       "      <td>152.20</td>\n",
       "      <td>1575.0</td>\n",
       "      <td>0.13740</td>\n",
       "      <td>0.20500</td>\n",
       "      <td>0.4000</td>\n",
       "      <td>0.1625</td>\n",
       "      <td>0.2364</td>\n",
       "      <td>0.07678</td>\n",
       "      <td>0</td>\n",
       "    </tr>\n",
       "    <tr>\n",
       "      <th>...</th>\n",
       "      <td>...</td>\n",
       "      <td>...</td>\n",
       "      <td>...</td>\n",
       "      <td>...</td>\n",
       "      <td>...</td>\n",
       "      <td>...</td>\n",
       "      <td>...</td>\n",
       "      <td>...</td>\n",
       "      <td>...</td>\n",
       "      <td>...</td>\n",
       "      <td>...</td>\n",
       "      <td>...</td>\n",
       "      <td>...</td>\n",
       "      <td>...</td>\n",
       "      <td>...</td>\n",
       "      <td>...</td>\n",
       "      <td>...</td>\n",
       "      <td>...</td>\n",
       "      <td>...</td>\n",
       "      <td>...</td>\n",
       "      <td>...</td>\n",
       "    </tr>\n",
       "    <tr>\n",
       "      <th>564</th>\n",
       "      <td>21.56</td>\n",
       "      <td>22.39</td>\n",
       "      <td>142.00</td>\n",
       "      <td>1479.0</td>\n",
       "      <td>0.11100</td>\n",
       "      <td>0.11590</td>\n",
       "      <td>0.24390</td>\n",
       "      <td>0.13890</td>\n",
       "      <td>0.1726</td>\n",
       "      <td>0.05623</td>\n",
       "      <td>...</td>\n",
       "      <td>26.40</td>\n",
       "      <td>166.10</td>\n",
       "      <td>2027.0</td>\n",
       "      <td>0.14100</td>\n",
       "      <td>0.21130</td>\n",
       "      <td>0.4107</td>\n",
       "      <td>0.2216</td>\n",
       "      <td>0.2060</td>\n",
       "      <td>0.07115</td>\n",
       "      <td>0</td>\n",
       "    </tr>\n",
       "    <tr>\n",
       "      <th>565</th>\n",
       "      <td>20.13</td>\n",
       "      <td>28.25</td>\n",
       "      <td>131.20</td>\n",
       "      <td>1261.0</td>\n",
       "      <td>0.09780</td>\n",
       "      <td>0.10340</td>\n",
       "      <td>0.14400</td>\n",
       "      <td>0.09791</td>\n",
       "      <td>0.1752</td>\n",
       "      <td>0.05533</td>\n",
       "      <td>...</td>\n",
       "      <td>38.25</td>\n",
       "      <td>155.00</td>\n",
       "      <td>1731.0</td>\n",
       "      <td>0.11660</td>\n",
       "      <td>0.19220</td>\n",
       "      <td>0.3215</td>\n",
       "      <td>0.1628</td>\n",
       "      <td>0.2572</td>\n",
       "      <td>0.06637</td>\n",
       "      <td>0</td>\n",
       "    </tr>\n",
       "    <tr>\n",
       "      <th>566</th>\n",
       "      <td>16.60</td>\n",
       "      <td>28.08</td>\n",
       "      <td>108.30</td>\n",
       "      <td>858.1</td>\n",
       "      <td>0.08455</td>\n",
       "      <td>0.10230</td>\n",
       "      <td>0.09251</td>\n",
       "      <td>0.05302</td>\n",
       "      <td>0.1590</td>\n",
       "      <td>0.05648</td>\n",
       "      <td>...</td>\n",
       "      <td>34.12</td>\n",
       "      <td>126.70</td>\n",
       "      <td>1124.0</td>\n",
       "      <td>0.11390</td>\n",
       "      <td>0.30940</td>\n",
       "      <td>0.3403</td>\n",
       "      <td>0.1418</td>\n",
       "      <td>0.2218</td>\n",
       "      <td>0.07820</td>\n",
       "      <td>0</td>\n",
       "    </tr>\n",
       "    <tr>\n",
       "      <th>567</th>\n",
       "      <td>20.60</td>\n",
       "      <td>29.33</td>\n",
       "      <td>140.10</td>\n",
       "      <td>1265.0</td>\n",
       "      <td>0.11780</td>\n",
       "      <td>0.27700</td>\n",
       "      <td>0.35140</td>\n",
       "      <td>0.15200</td>\n",
       "      <td>0.2397</td>\n",
       "      <td>0.07016</td>\n",
       "      <td>...</td>\n",
       "      <td>39.42</td>\n",
       "      <td>184.60</td>\n",
       "      <td>1821.0</td>\n",
       "      <td>0.16500</td>\n",
       "      <td>0.86810</td>\n",
       "      <td>0.9387</td>\n",
       "      <td>0.2650</td>\n",
       "      <td>0.4087</td>\n",
       "      <td>0.12400</td>\n",
       "      <td>0</td>\n",
       "    </tr>\n",
       "    <tr>\n",
       "      <th>568</th>\n",
       "      <td>7.76</td>\n",
       "      <td>24.54</td>\n",
       "      <td>47.92</td>\n",
       "      <td>181.0</td>\n",
       "      <td>0.05263</td>\n",
       "      <td>0.04362</td>\n",
       "      <td>0.00000</td>\n",
       "      <td>0.00000</td>\n",
       "      <td>0.1587</td>\n",
       "      <td>0.05884</td>\n",
       "      <td>...</td>\n",
       "      <td>30.37</td>\n",
       "      <td>59.16</td>\n",
       "      <td>268.6</td>\n",
       "      <td>0.08996</td>\n",
       "      <td>0.06444</td>\n",
       "      <td>0.0000</td>\n",
       "      <td>0.0000</td>\n",
       "      <td>0.2871</td>\n",
       "      <td>0.07039</td>\n",
       "      <td>1</td>\n",
       "    </tr>\n",
       "  </tbody>\n",
       "</table>\n",
       "<p>569 rows × 31 columns</p>\n",
       "</div>"
      ],
      "text/plain": [
       "     mean radius  mean texture  mean perimeter  mean area  mean smoothness  \\\n",
       "0          17.99         10.38          122.80     1001.0          0.11840   \n",
       "1          20.57         17.77          132.90     1326.0          0.08474   \n",
       "2          19.69         21.25          130.00     1203.0          0.10960   \n",
       "3          11.42         20.38           77.58      386.1          0.14250   \n",
       "4          20.29         14.34          135.10     1297.0          0.10030   \n",
       "..           ...           ...             ...        ...              ...   \n",
       "564        21.56         22.39          142.00     1479.0          0.11100   \n",
       "565        20.13         28.25          131.20     1261.0          0.09780   \n",
       "566        16.60         28.08          108.30      858.1          0.08455   \n",
       "567        20.60         29.33          140.10     1265.0          0.11780   \n",
       "568         7.76         24.54           47.92      181.0          0.05263   \n",
       "\n",
       "     mean compactness  mean concavity  mean concave points  mean symmetry  \\\n",
       "0             0.27760         0.30010              0.14710         0.2419   \n",
       "1             0.07864         0.08690              0.07017         0.1812   \n",
       "2             0.15990         0.19740              0.12790         0.2069   \n",
       "3             0.28390         0.24140              0.10520         0.2597   \n",
       "4             0.13280         0.19800              0.10430         0.1809   \n",
       "..                ...             ...                  ...            ...   \n",
       "564           0.11590         0.24390              0.13890         0.1726   \n",
       "565           0.10340         0.14400              0.09791         0.1752   \n",
       "566           0.10230         0.09251              0.05302         0.1590   \n",
       "567           0.27700         0.35140              0.15200         0.2397   \n",
       "568           0.04362         0.00000              0.00000         0.1587   \n",
       "\n",
       "     mean fractal dimension  ...  worst texture  worst perimeter  worst area  \\\n",
       "0                   0.07871  ...          17.33           184.60      2019.0   \n",
       "1                   0.05667  ...          23.41           158.80      1956.0   \n",
       "2                   0.05999  ...          25.53           152.50      1709.0   \n",
       "3                   0.09744  ...          26.50            98.87       567.7   \n",
       "4                   0.05883  ...          16.67           152.20      1575.0   \n",
       "..                      ...  ...            ...              ...         ...   \n",
       "564                 0.05623  ...          26.40           166.10      2027.0   \n",
       "565                 0.05533  ...          38.25           155.00      1731.0   \n",
       "566                 0.05648  ...          34.12           126.70      1124.0   \n",
       "567                 0.07016  ...          39.42           184.60      1821.0   \n",
       "568                 0.05884  ...          30.37            59.16       268.6   \n",
       "\n",
       "     worst smoothness  worst compactness  worst concavity  \\\n",
       "0             0.16220            0.66560           0.7119   \n",
       "1             0.12380            0.18660           0.2416   \n",
       "2             0.14440            0.42450           0.4504   \n",
       "3             0.20980            0.86630           0.6869   \n",
       "4             0.13740            0.20500           0.4000   \n",
       "..                ...                ...              ...   \n",
       "564           0.14100            0.21130           0.4107   \n",
       "565           0.11660            0.19220           0.3215   \n",
       "566           0.11390            0.30940           0.3403   \n",
       "567           0.16500            0.86810           0.9387   \n",
       "568           0.08996            0.06444           0.0000   \n",
       "\n",
       "     worst concave points  worst symmetry  worst fractal dimension  diagnosis  \n",
       "0                  0.2654          0.4601                  0.11890          0  \n",
       "1                  0.1860          0.2750                  0.08902          0  \n",
       "2                  0.2430          0.3613                  0.08758          0  \n",
       "3                  0.2575          0.6638                  0.17300          0  \n",
       "4                  0.1625          0.2364                  0.07678          0  \n",
       "..                    ...             ...                      ...        ...  \n",
       "564                0.2216          0.2060                  0.07115          0  \n",
       "565                0.1628          0.2572                  0.06637          0  \n",
       "566                0.1418          0.2218                  0.07820          0  \n",
       "567                0.2650          0.4087                  0.12400          0  \n",
       "568                0.0000          0.2871                  0.07039          1  \n",
       "\n",
       "[569 rows x 31 columns]"
      ]
     },
     "execution_count": 6,
     "metadata": {},
     "output_type": "execute_result"
    }
   ],
   "source": [
    "# Viewing the data:\n",
    "\n",
    "df = pd.DataFrame(breast_cancer.data, columns = breast_cancer.feature_names)\n",
    "df['diagnosis'] = breast_cancer.target\n",
    "df"
   ]
  },
  {
   "cell_type": "code",
   "execution_count": 7,
   "id": "177bf920",
   "metadata": {},
   "outputs": [],
   "source": [
    "# Get the features and label from the original dataframe:\n",
    "X = df.iloc[:,:-1]\n",
    "y = df.iloc[:,-1]\n",
    "\n",
    "# Scaling the data as PCA is sensitive to scaling:\n",
    "sc = StandardScaler()\n",
    "X_scaled = sc.fit_transform(X)"
   ]
  },
  {
   "cell_type": "code",
   "execution_count": 220,
   "id": "a810394e",
   "metadata": {},
   "outputs": [
    {
     "data": {
      "text/plain": [
       "PCA()"
      ]
     },
     "execution_count": 220,
     "metadata": {},
     "output_type": "execute_result"
    }
   ],
   "source": [
    "# Fitting a PCA model:\n",
    "\n",
    "components = None      \n",
    "# Setting no. of components as None.\n",
    "# So that the number of components returned will be the same as the number of original features in the dataset.\n",
    "pca = PCA(n_components = components)\n",
    "\n",
    "# Perform PCA on the scaled data:\n",
    "pca.fit(X_scaled)"
   ]
  },
  {
   "cell_type": "code",
   "execution_count": 221,
   "id": "25bf37ec",
   "metadata": {
    "scrolled": true
   },
   "outputs": [
    {
     "name": "stdout",
     "output_type": "stream",
     "text": [
      "Variances (Percentage):\n",
      "[4.42720256e+01 1.89711820e+01 9.39316326e+00 6.60213492e+00\n",
      " 5.49576849e+00 4.02452204e+00 2.25073371e+00 1.58872380e+00\n",
      " 1.38964937e+00 1.16897819e+00 9.79718988e-01 8.70537901e-01\n",
      " 8.04524987e-01 5.23365745e-01 3.13783217e-01 2.66209337e-01\n",
      " 1.97996793e-01 1.75395945e-01 1.64925306e-01 1.03864675e-01\n",
      " 9.99096464e-02 9.14646751e-02 8.11361259e-02 6.01833567e-02\n",
      " 5.16042379e-02 2.72587995e-02 2.30015463e-02 5.29779290e-03\n",
      " 2.49601032e-03 4.43482743e-04]\n",
      "\n"
     ]
    }
   ],
   "source": [
    "# Printing the explained variances:\n",
    "print(\"Variances (Percentage):\")\n",
    "print(pca.explained_variance_ratio_ * 100)\n",
    "print()"
   ]
  },
  {
   "cell_type": "markdown",
   "id": "32f4bb99",
   "metadata": {},
   "source": [
    "The first component explains 44.27% variance in the data, the second component explains 18.97% of the variance, the third component explains 9.39% of the variance and so on "
   ]
  },
  {
   "cell_type": "code",
   "execution_count": 222,
   "id": "2a14f586",
   "metadata": {},
   "outputs": [
    {
     "name": "stdout",
     "output_type": "stream",
     "text": [
      "Cumulative Variances (Percentage):\n",
      "[ 44.27202561  63.24320765  72.63637091  79.23850582  84.73427432\n",
      "  88.75879636  91.00953007  92.59825387  93.98790324  95.15688143\n",
      "  96.13660042  97.00713832  97.81166331  98.33502905  98.64881227\n",
      "  98.91502161  99.1130184   99.28841435  99.45333965  99.55720433\n",
      "  99.65711397  99.74857865  99.82971477  99.88989813  99.94150237\n",
      "  99.96876117  99.99176271  99.99706051  99.99955652 100.        ]\n",
      "\n"
     ]
    }
   ],
   "source": [
    "# Printing the cumulative explained variances:\n",
    "print(\"Cumulative Variances (Percentage):\")\n",
    "print(pca.explained_variance_ratio_.cumsum() * 100)\n",
    "print()"
   ]
  },
  {
   "cell_type": "markdown",
   "id": "533ad183",
   "metadata": {},
   "source": [
    "Cumulatively all 30 components explain 100% variance in the data. \n"
   ]
  },
  {
   "cell_type": "code",
   "execution_count": 223,
   "id": "3f02deb2",
   "metadata": {
    "scrolled": true
   },
   "outputs": [
    {
     "data": {
      "text/plain": [
       "Text(0.5, 1.0, 'Scree Plot')"
      ]
     },
     "execution_count": 223,
     "metadata": {},
     "output_type": "execute_result"
    },
    {
     "data": {
      "image/png": "[encoded data removed]",
      "text/plain": [
       "<Figure size 432x288 with 1 Axes>"
      ]
     },
     "metadata": {
      "needs_background": "light"
     },
     "output_type": "display_data"
    }
   ],
   "source": [
    "# Scree plot\n",
    "components = len(pca.explained_variance_ratio_) \\\n",
    "    if components is None else components\n",
    "plt.plot(range(1,components+1), \n",
    "         np.cumsum(pca.explained_variance_ratio_ * 100))\n",
    "plt.xlabel(\"Number of components\")\n",
    "plt.ylabel(\"Explained variance (%)\")\n",
    "plt.title('Scree Plot')"
   ]
  },
  {
   "cell_type": "markdown",
   "id": "530061c9",
   "metadata": {},
   "source": [
    "From the scree plot and the printed explained variance percentage values, we get that the point of inflexion is 6 i.e six components should be retained. \n",
    "\n",
    "These six components explain 88.76% of the variance. "
   ]
  },
  {
   "cell_type": "code",
   "execution_count": 224,
   "id": "4a989e4e",
   "metadata": {
    "scrolled": false
   },
   "outputs": [
    {
     "name": "stdout",
     "output_type": "stream",
     "text": [
      "[[2.18902444e-01 1.03724578e-01 2.27537293e-01 2.20994985e-01\n",
      "  1.42589694e-01 2.39285354e-01 2.58400481e-01 2.60853758e-01\n",
      "  1.38166959e-01 6.43633464e-02 2.05978776e-01 1.74280281e-02\n",
      "  2.11325916e-01 2.02869635e-01 1.45314521e-02 1.70393451e-01\n",
      "  1.53589790e-01 1.83417397e-01 4.24984216e-02 1.02568322e-01\n",
      "  2.27996634e-01 1.04469325e-01 2.36639681e-01 2.24870533e-01\n",
      "  1.27952561e-01 2.10095880e-01 2.28767533e-01 2.50885971e-01\n",
      "  1.22904556e-01 1.31783943e-01]\n",
      " [2.33857132e-01 5.97060883e-02 2.15181361e-01 2.31076711e-01\n",
      "  1.86113023e-01 1.51891610e-01 6.01653628e-02 3.47675005e-02\n",
      "  1.90348770e-01 3.66575471e-01 1.05552152e-01 8.99796818e-02\n",
      "  8.94572342e-02 1.52292628e-01 2.04430453e-01 2.32715896e-01\n",
      "  1.97207283e-01 1.30321560e-01 1.83848000e-01 2.80092027e-01\n",
      "  2.19866379e-01 4.54672983e-02 1.99878428e-01 2.19351858e-01\n",
      "  1.72304352e-01 1.43593173e-01 9.79641143e-02 8.25723507e-03\n",
      "  1.41883349e-01 2.75339469e-01]\n",
      " [8.53124284e-03 6.45499033e-02 9.31421972e-03 2.86995259e-02\n",
      "  1.04291904e-01 7.40915709e-02 2.73383798e-03 2.55635406e-02\n",
      "  4.02399363e-02 2.25740897e-02 2.68481387e-01 3.74633665e-01\n",
      "  2.66645367e-01 2.16006528e-01 3.08838979e-01 1.54779718e-01\n",
      "  1.76463743e-01 2.24657567e-01 2.88584292e-01 2.11503764e-01\n",
      "  4.75069900e-02 4.22978228e-02 4.85465083e-02 1.19023182e-02\n",
      "  2.59797613e-01 2.36075625e-01 1.73057335e-01 1.70344076e-01\n",
      "  2.71312642e-01 2.32791313e-01]\n",
      " [4.14089623e-02 6.03050001e-01 4.19830991e-02 5.34337955e-02\n",
      "  1.59382765e-01 3.17945811e-02 1.91227535e-02 6.53359443e-02\n",
      "  6.71249840e-02 4.85867649e-02 9.79412418e-02 3.59855528e-01\n",
      "  8.89924146e-02 1.08205039e-01 4.46641797e-02 2.74693632e-02\n",
      "  1.31687997e-03 7.40673350e-02 4.40733510e-02 1.53047496e-02\n",
      "  1.54172396e-02 6.32807885e-01 1.38027944e-02 2.58947492e-02\n",
      "  1.76522161e-02 9.13284153e-02 7.39511797e-02 6.00699571e-03\n",
      "  3.62506947e-02 7.70534703e-02]\n",
      " [3.77863538e-02 4.94688505e-02 3.73746632e-02 1.03312514e-02\n",
      "  3.65088528e-01 1.17039713e-02 8.63754118e-02 4.38610252e-02\n",
      "  3.05941428e-01 4.44243602e-02 1.54456496e-01 1.91650506e-01\n",
      "  1.20990220e-01 1.27574432e-01 2.32065676e-01 2.79968156e-01\n",
      "  3.53982091e-01 1.95548089e-01 2.52868765e-01 2.63297438e-01\n",
      "  4.40659209e-03 9.28834001e-02 7.45415100e-03 2.73909030e-02\n",
      "  3.24435445e-01 1.21804107e-01 1.88518727e-01 4.33320687e-02\n",
      "  2.44558663e-01 9.44233510e-02]\n",
      " [1.87407904e-02 3.21788366e-02 1.73084449e-02 1.88774796e-03\n",
      "  2.86374497e-01 1.41309489e-02 9.34418089e-03 5.20499505e-02\n",
      "  3.56458461e-01 1.19430668e-01 2.56032561e-02 2.87473145e-02\n",
      "  1.81071500e-03 4.28639079e-02 3.42917393e-01 6.91975186e-02\n",
      "  5.63432386e-02 3.12244482e-02 4.90245643e-01 5.31952674e-02\n",
      "  2.90684919e-04 5.00080613e-02 8.50098715e-03 2.51643821e-02\n",
      "  3.69255370e-01 4.77057929e-02 2.83792555e-02 3.08734498e-02\n",
      "  4.98926784e-01 8.02235245e-02]\n",
      " [1.24088340e-01 1.13995382e-02 1.14477057e-01 5.16534275e-02\n",
      "  1.40668993e-01 3.09184960e-02 1.07520443e-01 1.50482214e-01\n",
      "  9.38911345e-02 2.95760024e-01 3.12490037e-01 9.07553556e-02\n",
      "  3.14640390e-01 3.46679003e-01 2.44024056e-01 2.34635340e-02\n",
      "  2.08823790e-01 3.69645937e-01 8.03822539e-02 1.91394973e-01\n",
      "  9.70993602e-03 9.87074388e-03 4.45726717e-04 6.78316595e-02\n",
      "  1.08830886e-01 1.40472938e-01 6.04880561e-02 1.67966619e-01\n",
      "  1.84906298e-02 3.74657626e-01]\n",
      " [7.45229622e-03 1.30674825e-01 1.86872582e-02 3.46736038e-02\n",
      "  2.88974575e-01 1.51396350e-01 7.28272853e-02 1.52322414e-01\n",
      "  2.31530989e-01 1.77121441e-01 2.25399674e-02 4.75413139e-01\n",
      "  1.18966905e-02 8.58051345e-02 5.73410232e-01 1.17460157e-01\n",
      "  6.05665008e-02 1.08319309e-01 2.20149279e-01 1.11681884e-02\n",
      "  4.26194163e-02 3.62516360e-02 3.05585340e-02 7.93942456e-02\n",
      "  2.05852191e-01 8.40196588e-02 7.24678714e-02 3.61707954e-02\n",
      "  2.28225053e-01 4.83606666e-02]\n",
      " [2.23109764e-01 1.12699390e-01 2.23739213e-01 1.95586014e-01\n",
      "  6.42472194e-03 1.67841425e-01 4.05910064e-02 1.11971106e-01\n",
      "  2.56040084e-01 1.23740789e-01 2.49985002e-01 2.46645397e-01\n",
      "  2.27154024e-01 2.29160015e-01 1.41924890e-01 1.45322810e-01\n",
      "  3.58107079e-01 2.72519886e-01 3.04077200e-01 2.13722716e-01\n",
      "  1.12141463e-01 1.03341204e-01 1.09614364e-01 8.07324609e-02\n",
      "  1.12315904e-01 1.00677822e-01 1.61908621e-01 6.04884615e-02\n",
      "  6.46378061e-02 1.34174175e-01]\n",
      " [9.54864432e-02 2.40934066e-01 8.63856150e-02 7.49564886e-02\n",
      "  6.92926813e-02 1.29362000e-02 1.35602298e-01 8.05452775e-03\n",
      "  5.72069479e-01 8.11032072e-02 4.95475941e-02 2.89142742e-01\n",
      "  1.14508236e-01 9.19278886e-02 1.60884609e-01 4.35048658e-02\n",
      "  1.41276243e-01 8.62408470e-02 3.16529830e-01 3.67541918e-01\n",
      "  7.73616428e-02 2.95509413e-02 5.05083335e-02 6.99211523e-02\n",
      "  1.28304659e-01 1.72133632e-01 3.11638520e-01 7.66482910e-02\n",
      "  2.95630751e-02 1.26095791e-02]\n",
      " [4.14714866e-02 3.02243402e-01 1.67826374e-02 1.10169643e-01\n",
      "  1.37021842e-01 3.08009633e-01 1.24190245e-01 7.24460264e-02\n",
      "  1.63054081e-01 3.80482687e-02 2.53570194e-02 3.44944458e-01\n",
      "  1.67318771e-01 5.16194632e-02 8.42062106e-02 2.06885680e-01\n",
      "  3.49517943e-01 3.42375908e-01 1.87844043e-01 2.50624789e-01\n",
      "  1.05067333e-01 1.31572736e-02 5.10762807e-02 1.84598937e-01\n",
      "  1.43890349e-01 1.97420469e-01 1.85016760e-01 1.17772055e-01\n",
      "  1.57560248e-01 1.18283551e-01]\n",
      " [5.10674568e-02 2.54896423e-01 3.89261058e-02 6.54375082e-02\n",
      "  3.16727211e-01 1.04017044e-01 6.56534798e-02 4.25892667e-02\n",
      "  2.88865504e-01 2.36358988e-01 1.66879153e-02 3.06160423e-01\n",
      "  1.01446828e-01 1.76792177e-02 2.94710053e-01 2.63456509e-01\n",
      "  2.51146975e-01 6.45875122e-03 3.20571348e-01 2.76165974e-01\n",
      "  3.96796652e-02 7.97974499e-02 8.98773800e-03 4.80886567e-02\n",
      "  5.65148662e-02 3.71662503e-01 8.70345324e-02 6.81253543e-02\n",
      "  4.40335026e-02 3.47316933e-02]\n",
      " [1.19672116e-02 2.03461333e-01 4.41095034e-02 6.73757374e-02\n",
      "  4.55736020e-02 2.29281304e-01 3.87090806e-01 1.32138097e-01\n",
      "  1.89933673e-01 1.06239082e-01 6.81952298e-02 1.68222383e-01\n",
      "  3.78439858e-02 5.60649318e-02 1.50441434e-01 1.00401699e-02\n",
      "  1.58783192e-01 4.94026741e-01 1.03327412e-02 2.40458323e-01\n",
      "  1.37890527e-01 8.01454315e-02 9.69657077e-02 1.01160611e-01\n",
      "  2.05130344e-01 1.22793095e-02 2.17984329e-01 2.54387490e-01\n",
      "  2.56534905e-01 1.72814238e-01]\n",
      " [5.95061348e-02 2.15600995e-02 4.85138123e-02 1.08308292e-02\n",
      "  4.45064860e-01 8.10105720e-03 1.89358699e-01 2.44794768e-01\n",
      "  3.07388563e-02 3.77078865e-01 1.03474126e-02 1.08493473e-02\n",
      "  4.55237175e-02 8.35707181e-02 2.01152530e-01 4.91755932e-01\n",
      "  1.34586924e-01 1.99666719e-01 4.68643826e-02 1.45652466e-01\n",
      "  2.31012813e-02 5.34307917e-02 1.22193824e-02 6.68546458e-03\n",
      "  1.62235443e-01 1.66470250e-01 6.67989309e-02 2.76418891e-01\n",
      "  5.35557351e-03 2.12104110e-01]\n",
      " [5.11187749e-02 1.07922421e-01 3.99029358e-02 1.39669069e-02\n",
      "  1.18143364e-01 2.30899962e-01 1.28283732e-01 2.17099194e-01\n",
      "  7.39617071e-02 5.17975705e-01 1.10050711e-01 3.27527212e-02\n",
      "  8.26808881e-03 4.60243656e-02 1.85594647e-02 1.68209315e-01\n",
      "  2.50471408e-01 6.20793442e-02 1.13383199e-01 3.53232211e-01\n",
      "  1.66567074e-01 1.01115399e-01 1.82755198e-01 3.14993600e-01\n",
      "  4.61258656e-02 4.99560142e-02 2.04835886e-01 1.69499607e-01\n",
      "  1.39888394e-01 2.56173195e-01]\n",
      " [1.50583883e-01 1.57841960e-01 1.14453955e-01 1.32448032e-01\n",
      "  2.04613247e-01 1.70178367e-01 2.69470206e-01 3.80464095e-01\n",
      "  1.64661588e-01 4.07927860e-02 5.89057190e-02 3.45004006e-02\n",
      "  2.65166513e-02 4.11532265e-02 5.80390613e-02 1.89830896e-01\n",
      "  1.25420649e-01 1.98810346e-01 1.57711497e-01 2.68553878e-01\n",
      "  8.15605686e-02 1.85557852e-01 5.48570473e-02 9.06533944e-02\n",
      "  1.45551659e-01 1.53734861e-01 2.15021948e-01 1.78141741e-01\n",
      "  2.57894009e-01 4.05556492e-01]\n",
      " [2.02924255e-01 3.87061187e-02 1.94821310e-01 2.55705763e-01\n",
      "  1.67929914e-01 2.03077075e-02 1.59835337e-03 3.45095087e-02\n",
      "  1.91737848e-01 5.02252456e-02 1.39396866e-01 4.39630156e-02\n",
      "  2.46356391e-02 3.34418173e-01 1.39595006e-01 8.24647717e-03\n",
      "  8.46167156e-02 1.08132263e-01 2.74059129e-01 1.22733398e-01\n",
      "  2.40049982e-01 6.93651855e-02 2.34164147e-01 2.73399584e-01\n",
      "  2.78030197e-01 4.03712272e-03 1.91313419e-01 7.54853164e-02\n",
      "  4.30658116e-01 1.59394300e-01]\n",
      " [1.46712338e-01 4.11029851e-02 1.58317455e-01 2.66168105e-01\n",
      "  3.52226802e-01 7.79413843e-03 2.69681105e-02 8.28277367e-02\n",
      "  1.73397790e-01 8.78673570e-02 2.36216532e-01 9.85866201e-03\n",
      "  2.59288003e-02 3.04906903e-01 2.31259943e-01 1.00474235e-01\n",
      "  1.95485228e-04 4.60549116e-02 1.87014764e-01 5.98230982e-02\n",
      "  2.16101353e-01 5.83984505e-02 1.88543592e-01 1.42064856e-01\n",
      "  5.01551675e-01 7.35745143e-02 1.03907980e-01 7.58138963e-02\n",
      "  2.78713843e-01 2.35647497e-02]\n",
      " [2.25384659e-01 2.97886446e-02 2.39595276e-01 2.73221894e-02\n",
      "  1.64565843e-01 2.84222358e-01 2.26636013e-03 1.54972363e-01\n",
      "  5.88111647e-02 5.81570509e-02 1.75883308e-01 3.60098518e-02\n",
      "  3.65701538e-01 4.16572314e-01 1.32600886e-02 2.42448176e-01\n",
      "  1.26381025e-01 1.21642969e-02 8.90392949e-02 8.66008430e-02\n",
      "  1.36613039e-02 7.58669276e-02 9.08132490e-02 4.10047202e-01\n",
      "  2.34513845e-01 2.02007041e-02 4.57861197e-02 2.60229625e-01\n",
      "  1.17250532e-01 1.14944811e-02]\n",
      " [4.96986642e-02 2.44134993e-01 1.76650122e-02 9.01437617e-02\n",
      "  1.71009601e-02 4.88686329e-01 3.33870858e-02 2.35407606e-01\n",
      "  2.60691555e-02 1.75637222e-01 9.08005031e-02 7.16599878e-02\n",
      "  1.77250625e-01 2.74201148e-01 9.00614773e-02 4.61098220e-01\n",
      "  6.69461742e-02 6.88682942e-02 1.07385289e-01 2.22345297e-01\n",
      "  5.62690874e-03 3.00599798e-01 1.10038577e-02 6.00473870e-02\n",
      "  1.29723903e-01 2.29280589e-01 4.64827918e-02 3.30223397e-02\n",
      "  1.16759236e-01 1.04991974e-01]\n",
      " [6.85700057e-02 4.48369467e-01 6.97690429e-02 1.84432785e-02\n",
      "  1.19491747e-01 1.92621396e-01 5.57175335e-03 9.42381870e-03\n",
      "  8.69384844e-02 7.62718362e-02 8.63867747e-02 2.17071967e-01\n",
      "  3.04950158e-01 1.92587786e-01 7.20987261e-02 1.40386572e-01\n",
      "  6.30479298e-02 3.43753236e-02 9.76995265e-02 6.28432814e-02\n",
      "  7.29389953e-03 5.94440143e-01 9.20235990e-02 1.46790132e-01\n",
      "  1.64849237e-01 1.81374867e-01 1.32100595e-01 8.86081478e-04\n",
      "  1.62708549e-01 9.23439434e-02]\n",
      " [7.29289034e-02 9.48006326e-02 7.51604777e-02 9.75657781e-02\n",
      "  6.38229479e-02 9.80775567e-02 1.85212003e-01 3.11852431e-01\n",
      "  1.84067326e-02 2.87868885e-01 1.50274681e-01 4.84569345e-02\n",
      "  1.59352804e-01 6.42326151e-02 5.05449015e-02 4.52876920e-02\n",
      "  2.05212693e-01 7.25453753e-02 8.46544307e-02 2.44705083e-01\n",
      "  9.62982088e-02 1.11112024e-01 1.72216251e-02 9.69598236e-02\n",
      "  6.82540931e-02 2.96764124e-02 4.60426186e-01 2.99840557e-01\n",
      "  9.71448437e-02 4.69471147e-01]\n",
      " [9.85526942e-02 5.54997454e-04 4.02447050e-02 7.77727342e-03\n",
      "  2.06657211e-02 5.23603957e-02 3.24870378e-01 5.14087968e-02\n",
      "  5.12005770e-02 8.46898562e-02 2.64125317e-01 8.73880467e-04\n",
      "  9.00742110e-02 9.82150746e-02 5.98177179e-02 9.10387102e-03\n",
      "  3.87542329e-01 3.51755074e-01 4.23628949e-02 8.57810992e-02\n",
      "  5.56767923e-02 8.92289971e-03 6.33448296e-02 1.90889625e-01\n",
      "  9.36901494e-02 1.47920925e-01 2.86433135e-01 5.67527797e-01\n",
      "  1.21343451e-01 7.62533821e-03]\n",
      " [1.82579441e-01 9.87867898e-02 1.16648876e-01 6.98483369e-02\n",
      "  6.86974224e-02 1.04135518e-01 4.47410568e-02 8.40276972e-02\n",
      "  1.93394733e-02 1.33260547e-01 5.58701567e-01 2.42672970e-02\n",
      "  5.16750385e-01 2.24607172e-02 1.56311888e-02 1.21777792e-01\n",
      "  1.88205036e-01 1.09668978e-01 3.22620011e-03 7.51944193e-02\n",
      "  1.56830365e-01 1.18484602e-01 2.37113167e-01 1.44063033e-01\n",
      "  1.09901386e-02 1.86749953e-01 2.88852570e-01 1.07340243e-01\n",
      "  1.43818093e-02 3.78254532e-02]\n",
      " [1.92264989e-02 8.47459309e-02 2.70154137e-02 2.10040780e-01\n",
      "  2.89548850e-02 3.96623231e-01 9.69773167e-02 1.86451602e-01\n",
      "  2.45836949e-02 2.07221864e-01 1.74930429e-01 5.69864778e-02\n",
      "  7.29276412e-02 1.31850405e-01 3.12107028e-02 1.73164553e-01\n",
      "  1.59399802e-02 1.29546547e-01 1.95149333e-02 8.41712034e-02\n",
      "  7.07097238e-02 1.18189721e-01 1.18034029e-01 3.82899511e-02\n",
      "  4.79647647e-02 6.24384938e-01 1.15770341e-01 2.63196337e-01\n",
      "  4.52996243e-02 2.80133485e-01]\n",
      " [1.29476396e-01 2.45566636e-02 1.25255946e-01 3.62727403e-01\n",
      "  3.70036864e-02 2.62808474e-01 5.48876170e-01 3.87643377e-01\n",
      "  1.60440385e-02 9.74048386e-02 4.99770798e-02 1.12372419e-02\n",
      "  1.03653282e-01 1.55304589e-01 7.71755717e-03 4.97276317e-02\n",
      "  9.14549680e-02 1.79419192e-02 1.72678486e-02 3.54889745e-02\n",
      "  1.97054744e-01 3.64694332e-02 2.44103670e-01 2.31359525e-01\n",
      "  1.26024637e-02 1.00463424e-01 2.66853781e-01 1.33574507e-01\n",
      "  2.81842956e-02 4.52048188e-03]\n",
      " [1.31526670e-01 1.73573093e-02 1.15415423e-01 4.66612477e-01\n",
      "  6.96899233e-02 9.77487054e-02 3.64808397e-01 4.54699351e-01\n",
      "  1.51648349e-02 1.01244946e-01 2.12982901e-01 1.00928890e-02\n",
      "  4.16915529e-02 3.13358657e-01 9.05215355e-03 4.65360884e-02\n",
      "  8.42247975e-02 1.11655093e-02 1.99759830e-02 1.20365640e-02\n",
      "  1.78666740e-01 2.14106944e-02 2.41031046e-01 2.37162466e-01\n",
      "  4.08535683e-02 7.05054136e-02 1.42905801e-01 2.30901389e-01\n",
      "  2.27904438e-02 5.99859979e-02]\n",
      " [2.11194013e-01 6.58114593e-05 8.43382663e-02 2.72508323e-01\n",
      "  1.47926883e-03 5.46276696e-03 4.55386379e-02 8.88309714e-03\n",
      "  1.43302642e-03 6.31168651e-03 1.92223890e-01 5.62261069e-03\n",
      "  2.63191868e-01 4.20681051e-02 9.79296328e-03 1.53955481e-02\n",
      "  5.82097800e-03 2.90093001e-02 7.63652550e-03 1.97564555e-02\n",
      "  4.12639581e-01 3.90250926e-04 7.28680898e-01 2.38960316e-01\n",
      "  1.53524821e-03 4.86918180e-02 1.76408967e-02 2.24756680e-02\n",
      "  4.92048082e-03 2.35621424e-02]\n",
      " [2.11460455e-01 1.05339342e-02 3.83826098e-01 4.22794920e-01\n",
      "  3.43466700e-03 4.10167739e-02 1.00147876e-02 4.20694931e-03\n",
      "  7.56986244e-03 7.30143287e-03 1.18442112e-01 8.77627920e-03\n",
      "  6.10021933e-03 8.59259138e-02 1.77638619e-03 3.15813441e-03\n",
      "  1.60785207e-02 2.39377870e-02 5.22329189e-03 8.34191154e-03\n",
      "  6.35724917e-01 1.72354925e-02 2.29218029e-02 4.44935933e-01\n",
      "  7.38549171e-03 3.56690392e-06 1.26757226e-02 3.52404543e-02\n",
      "  1.34042283e-02 1.14776603e-02]\n",
      " [7.02414091e-01 2.73661018e-04 6.89896968e-01 3.29473482e-02\n",
      "  4.84745766e-03 4.46741863e-02 2.51386661e-02 1.07726530e-03\n",
      "  1.28037941e-03 4.75568480e-03 8.71109373e-03 1.07103919e-03\n",
      "  1.37293906e-02 1.10532603e-03 1.60821086e-03 1.91562235e-03\n",
      "  8.92652653e-03 2.16019727e-03 3.29389752e-04 1.79895682e-03\n",
      "  1.35643056e-01 1.02053601e-03 7.97438536e-02 3.97422838e-02\n",
      "  4.58327731e-03 1.28415624e-02 4.02139168e-04 2.28844179e-03\n",
      "  3.95443454e-04 1.89429245e-03]]\n"
     ]
    }
   ],
   "source": [
    "# Importance of each feature that contributes to each of the components\n",
    "pca_components = abs(pca.components_)\n",
    "print(pca_components)"
   ]
  },
  {
   "cell_type": "markdown",
   "id": "2700dd89",
   "metadata": {},
   "source": [
    "The higher the values, the greater is the importance of each feature"
   ]
  },
  {
   "cell_type": "code",
   "execution_count": 225,
   "id": "2cc21d7e",
   "metadata": {
    "scrolled": true
   },
   "outputs": [
    {
     "name": "stdout",
     "output_type": "stream",
     "text": [
      "Top 5 most important features in each component:\n",
      "===============================================\n",
      "Component 0: ['mean concave points', 'mean concavity', 'worst concave points', 'mean compactness', 'worst perimeter']\n",
      "Component 1: ['mean fractal dimension', 'fractal dimension error', 'worst fractal dimension', 'mean radius', 'compactness error']\n",
      "Component 2: ['texture error', 'smoothness error', 'symmetry error', 'worst symmetry', 'radius error']\n",
      "Component 3: ['worst texture', 'mean texture', 'texture error', 'mean smoothness', 'area error']\n",
      "Component 4: ['mean smoothness', 'concavity error', 'worst smoothness', 'mean symmetry', 'compactness error']\n",
      "Component 5: ['worst symmetry', 'symmetry error', 'worst smoothness', 'mean symmetry', 'smoothness error']\n",
      "Component 6: ['worst fractal dimension', 'concave points error', 'area error', 'perimeter error', 'radius error']\n",
      "Component 7: ['smoothness error', 'texture error', 'mean smoothness', 'mean symmetry', 'worst symmetry']\n",
      "Component 8: ['concavity error', 'symmetry error', 'concave points error', 'mean symmetry', 'radius error']\n",
      "Component 9: ['mean symmetry', 'fractal dimension error', 'symmetry error', 'worst concavity', 'texture error']\n",
      "Component 10: ['concavity error', 'texture error', 'concave points error', 'mean compactness', 'mean texture']\n",
      "Component 11: ['worst compactness', 'symmetry error', 'mean smoothness', 'texture error', 'smoothness error']\n",
      "Component 12: ['concave points error', 'mean concavity', 'worst symmetry', 'worst concave points', 'fractal dimension error']\n",
      "Component 13: ['compactness error', 'mean smoothness', 'mean fractal dimension', 'worst concave points', 'mean concave points']\n",
      "Component 14: ['mean fractal dimension', 'fractal dimension error', 'worst area', 'worst fractal dimension', 'concavity error']\n",
      "Component 15: ['worst fractal dimension', 'mean concave points', 'mean concavity', 'fractal dimension error', 'worst symmetry']\n",
      "Component 16: ['worst symmetry', 'area error', 'worst smoothness', 'symmetry error', 'worst area']\n",
      "Component 17: ['worst smoothness', 'mean smoothness', 'area error', 'worst symmetry', 'mean area']\n",
      "Component 18: ['area error', 'worst area', 'perimeter error', 'mean compactness', 'worst concave points']\n",
      "Component 19: ['mean compactness', 'compactness error', 'worst texture', 'area error', 'mean texture']\n",
      "Component 20: ['worst texture', 'mean texture', 'perimeter error', 'texture error', 'mean compactness']\n",
      "Component 21: ['worst fractal dimension', 'worst concavity', 'mean concave points', 'worst concave points', 'mean fractal dimension']\n",
      "Component 22: ['worst concave points', 'concavity error', 'concave points error', 'mean concavity', 'worst concavity']\n",
      "Component 23: ['radius error', 'perimeter error', 'worst concavity', 'worst perimeter', 'concavity error']\n",
      "Component 24: ['worst compactness', 'mean compactness', 'worst fractal dimension', 'worst concave points', 'mean area']\n",
      "Component 25: ['mean concavity', 'mean concave points', 'mean area', 'worst concavity', 'mean compactness']\n",
      "Component 26: ['mean area', 'mean concave points', 'mean concavity', 'area error', 'worst perimeter']\n",
      "Component 27: ['worst perimeter', 'worst radius', 'mean area', 'perimeter error', 'worst area']\n",
      "Component 28: ['worst radius', 'worst area', 'mean area', 'mean perimeter', 'mean radius']\n",
      "Component 29: ['mean radius', 'mean perimeter', 'worst radius', 'worst perimeter', 'mean compactness']\n"
     ]
    }
   ],
   "source": [
    "# Print out the top 5 features that contributes the most to each of the 6 components:\n",
    "\n",
    "print('Top 5 most important features in each component:')\n",
    "print('===============================================')\n",
    "for row in range(pca_components.shape[0]):\n",
    "    # get the indices of the top 4 values in each row\n",
    "    temp = np.argpartition(-(pca_components[row]), 5)\n",
    "    \n",
    "    # sort the indices in descending order\n",
    "    indices = temp[np.argsort((-pca_components[row])[temp])][:5]\n",
    "    \n",
    "    # print the top 4 feature names\n",
    "    print(f'Component {row}: {df.columns[indices].to_list()}')"
   ]
  },
  {
   "cell_type": "markdown",
   "id": "ad4cf690",
   "metadata": {},
   "source": [
    "The top 5 features for each of the six components are given above"
   ]
  },
  {
   "cell_type": "code",
   "execution_count": 226,
   "id": "ec7b540b",
   "metadata": {},
   "outputs": [
    {
     "name": "stdout",
     "output_type": "stream",
     "text": [
      "(569, 30)\n",
      "[[ 9.19283683e+00  1.94858307e+00 -1.12316616e+00 ... -3.39144536e-02\n",
      "   4.56477199e-02 -4.71692081e-02]\n",
      " [ 2.38780180e+00 -3.76817174e+00 -5.29292687e-01 ...  3.26241827e-02\n",
      "  -5.68742432e-03 -1.86787626e-03]\n",
      " [ 5.73389628e+00 -1.07517380e+00 -5.51747593e-01 ...  4.70258247e-02\n",
      "   3.14589659e-03  7.50534755e-04]\n",
      " ...\n",
      " [ 1.25617928e+00 -1.90229671e+00  5.62730526e-01 ... -2.57775589e-03\n",
      "   6.70621179e-03  3.77041667e-03]\n",
      " [ 1.03747941e+01  1.67201011e+00 -1.87702933e+00 ... -6.80863833e-02\n",
      "  -8.41632764e-02 -2.37828222e-02]\n",
      " [-5.47524330e+00 -6.70636791e-01  1.49044308e+00 ... -9.51587894e-03\n",
      "  -6.09131090e-02 -1.94755854e-02]]\n"
     ]
    }
   ],
   "source": [
    "# Transform the standardized data of the 30 columns in the dataset to the 6 principal components:\n",
    "\n",
    "X_pca = pca.transform(X_scaled)\n",
    "print(X_pca.shape)\n",
    "print(X_pca)"
   ]
  },
  {
   "cell_type": "code",
   "execution_count": 227,
   "id": "b96fa6bb",
   "metadata": {},
   "outputs": [
    {
     "name": "stdout",
     "output_type": "stream",
     "text": [
      "Cumulative Variances (Percentage):\n",
      "[44.27202561 63.24320765 72.63637091 79.23850582 84.73427432 88.75879636]\n",
      "Number of components: 6\n"
     ]
    },
    {
     "data": {
      "text/plain": [
       "Text(0, 0.5, 'Explained variance (%)')"
      ]
     },
     "execution_count": 227,
     "metadata": {},
     "output_type": "execute_result"
    },
    {
     "data": {
      "image/png": "[encoded data removed]",
      "text/plain": [
       "<Figure size 432x288 with 1 Axes>"
      ]
     },
     "metadata": {
      "needs_background": "light"
     },
     "output_type": "display_data"
    }
   ],
   "source": [
    "pca = PCA(n_components = 6)\n",
    "pca.fit(X_scaled)\n",
    "\n",
    "print(\"Cumulative Variances (Percentage):\")\n",
    "print(np.cumsum(pca.explained_variance_ratio_ * 100))\n",
    "components = len(pca.explained_variance_ratio_)\n",
    "print(f'Number of components: {components}')\n",
    "# Make the scree plot\n",
    "plt.plot(range(1, components + 1), np.cumsum(pca.explained_variance_ratio_ * 100))\n",
    "plt.xlabel(\"Number of components\")\n",
    "plt.ylabel(\"Explained variance (%)\")"
   ]
  },
  {
   "cell_type": "markdown",
   "id": "5d13de29",
   "metadata": {},
   "source": [
    "###  2. Train a KNN classifier on the raw data used in question 1."
   ]
  },
  {
   "cell_type": "code",
   "execution_count": 9,
   "id": "a94976b1",
   "metadata": {},
   "outputs": [],
   "source": [
    "# Train-test split\n",
    "X_train, X_test, y_train, y_test = train_test_split(X, y, \n",
    "                     test_size=0.3,\n",
    "                     shuffle=True, \n",
    "                     random_state= 33)\n",
    "\n",
    "cv = StratifiedKFold(n_splits=5, shuffle=True, random_state=33)"
   ]
  },
  {
   "cell_type": "code",
   "execution_count": 231,
   "id": "fb833738",
   "metadata": {},
   "outputs": [
    {
     "name": "stdout",
     "output_type": "stream",
     "text": [
      "Minimum error:- 0.07602339181286555 at K = 5\n"
     ]
    },
    {
     "data": {
      "image/png": "[encoded data removed]",
      "text/plain": [
       "<Figure size 720x432 with 1 Axes>"
      ]
     },
     "metadata": {
      "needs_background": "light"
     },
     "output_type": "display_data"
    }
   ],
   "source": [
    "# Finding optimal k value\n",
    "error_rate = []\n",
    "for k in range(1,11):\n",
    "    \n",
    "    knn = KNeighborsClassifier(n_neighbors = k)\n",
    "    \n",
    "    # Fitting the model\n",
    "    model_knn = knn.fit(X_train,y_train)\n",
    "    y_hat = model_knn.predict(X_test)\n",
    "    \n",
    "    # Test error rate\n",
    "    test_error = 1 - accuracy_score(y_hat,y_test)\n",
    "    error_rate.append(test_error)\n",
    "    \n",
    "# Plotting the error rates \n",
    "plt.figure(figsize=(10,6))\n",
    "plt.plot(range(1,11),error_rate,color='blue', linestyle='dashed', \n",
    "         marker='o',markerfacecolor='red', markersize=10)\n",
    "plt.title('Error Rate vs. K Value')\n",
    "plt.xlabel('K')\n",
    "plt.ylabel('Error Rate')\n",
    "print(\"Minimum error:-\",min(error_rate),\"at K =\",error_rate.index(min(error_rate))+1)"
   ]
  },
  {
   "cell_type": "markdown",
   "id": "2bc06779",
   "metadata": {},
   "source": [
    "INTERPRETATION\n",
    "\n",
    "From the graph, we can notice that at point k = 5, test error rate is less comparing to the other k values.\n",
    "Thus we consider k = 5 as a optimum value for our model."
   ]
  },
  {
   "cell_type": "code",
   "execution_count": 233,
   "id": "0008e569",
   "metadata": {
    "scrolled": false
   },
   "outputs": [
    {
     "name": "stdout",
     "output_type": "stream",
     "text": [
      "Train Error Rate : 0.055276381909547756\n",
      "Test Error Rate : 0.07602339181286555\n",
      "Accuracy Score for Train Data 0.9447236180904522\n",
      "Accuracy Score for Test Data 0.9239766081871345\n",
      "\n",
      "\n",
      "Classification report: \n",
      "              precision    recall  f1-score   support\n",
      "\n",
      "           0       0.93      0.86      0.90        66\n",
      "           1       0.92      0.96      0.94       105\n",
      "\n",
      "    accuracy                           0.92       171\n",
      "   macro avg       0.93      0.91      0.92       171\n",
      "weighted avg       0.92      0.92      0.92       171\n",
      "\n",
      "Confusion matrix: \n",
      "[[ 57   9]\n",
      " [  4 101]]\n",
      "\n",
      "\n",
      "Accuracy:\n",
      " The accuracy score is: 0.9239766081871345\n"
     ]
    }
   ],
   "source": [
    "knn = KNeighborsClassifier(n_neighbors = 5)\n",
    "# Fitting the model\n",
    "model2_knn = knn.fit(X_train,y_train)\n",
    "\n",
    "# prediction\n",
    "y_hat_train1 = model2_knn.predict(X_train)\n",
    "y_hat_test1 = model2_knn.predict(X_test)\n",
    "    \n",
    "# Test error rate\n",
    "train_error1 =1 - accuracy_score(y_hat_train1,y_train)\n",
    "test_error1 =1 - accuracy_score(y_hat_test1,y_test)\n",
    "\n",
    "print(\"Train Error Rate :\",train_error1)\n",
    "print(\"Test Error Rate :\",test_error1)\n",
    "print(\"Accuracy Score for Train Data\",accuracy_score(y_hat_train1,y_train))\n",
    "print(\"Accuracy Score for Test Data\",accuracy_score(y_hat_test1,y_test))\n",
    "\n",
    "print(\"\\n\")\n",
    "print(\"Classification report: \")\n",
    "print(classification_report(y_test, y_hat_test1))\n",
    "\n",
    "print(\"Confusion matrix: \")\n",
    "print(confusion_matrix(y_test, y_hat_test1))\n",
    "\n",
    "print(\"\\n\")\n",
    "\n",
    "print(\"Accuracy:\")\n",
    "print(f' The accuracy score is: {accuracy_score(y_test, y_hat_test1)}')"
   ]
  },
  {
   "cell_type": "markdown",
   "id": "ea70ad33",
   "metadata": {},
   "source": [
    "The test error of the kNN model is 0.076."
   ]
  },
  {
   "cell_type": "markdown",
   "id": "94876a46",
   "metadata": {},
   "source": [
    "#### Comparision with logistic regression model:"
   ]
  },
  {
   "cell_type": "code",
   "execution_count": 10,
   "id": "398c4008",
   "metadata": {},
   "outputs": [
    {
     "name": "stdout",
     "output_type": "stream",
     "text": [
      "Fitting 5 folds for each of 80 candidates, totalling 400 fits\n"
     ]
    },
    {
     "data": {
      "text/plain": [
       "{'C': 25, 'penalty': 'l1', 'solver': 'liblinear'}"
      ]
     },
     "execution_count": 10,
     "metadata": {},
     "output_type": "execute_result"
    }
   ],
   "source": [
    "# Selection of model parameters using GridSearchCV\n",
    "lgr = LogisticRegression()\n",
    "lgr_params = {\n",
    "    'penalty': ['l1', 'l2'],\n",
    "    'C': [0.001, .009, 0.01, .09, 1, 5, 10, 25],\n",
    "    'solver': ['lbfgs', 'newton-cg', 'liblinear', 'sag', 'saga']\n",
    "}\n",
    "grid_search_lgr = GridSearchCV(estimator=lgr,\n",
    "                               param_grid=lgr_params,\n",
    "                               cv=cv,\n",
    "                               verbose=1,\n",
    "                               scoring='roc_auc',\n",
    "                               error_score=0)\n",
    "grid_result_lgr = grid_search_lgr.fit(X_train, y_train)\n",
    "grid_result_lgr.best_params_"
   ]
  },
  {
   "cell_type": "code",
   "execution_count": 235,
   "id": "0b969631",
   "metadata": {},
   "outputs": [
    {
     "name": "stdout",
     "output_type": "stream",
     "text": [
      "\n",
      "\n",
      "Classification report: \n",
      "              precision    recall  f1-score   support\n",
      "\n",
      "           0       0.98      0.94      0.96        66\n",
      "           1       0.96      0.99      0.98       105\n",
      "\n",
      "    accuracy                           0.97       171\n",
      "   macro avg       0.97      0.96      0.97       171\n",
      "weighted avg       0.97      0.97      0.97       171\n",
      "\n",
      "Confusion matrix: \n",
      "[[ 62   4]\n",
      " [  1 104]]\n",
      "\n",
      "\n",
      "Accuracy\n",
      "The accuracy score is: 0.9707602339181286\n",
      "The test error is  0.0292397660818714\n"
     ]
    }
   ],
   "source": [
    "# Model training and scoring\n",
    "\n",
    "lgr = lgr.set_params(**grid_result_lgr.best_params_)\n",
    "lgr.fit(X_train, y_train)\n",
    "y_pred_lgr = lgr.predict(X_test)\n",
    "\n",
    "\n",
    "print(\"\\n\")\n",
    "print(\"Classification report: \")\n",
    "print(classification_report(y_test, y_pred_lgr))\n",
    "\n",
    "print(\"Confusion matrix: \")\n",
    "print(confusion_matrix(y_test, y_pred_lgr))\n",
    "print(\"\\n\")\n",
    "\n",
    "print(\"Accuracy\")\n",
    "print(f'The accuracy score is: {accuracy_score(y_test, y_pred_lgr)}')\n",
    "\n",
    "print(\"The test error is \" , 1-accuracy_score(y_test, y_pred_lgr))"
   ]
  },
  {
   "cell_type": "markdown",
   "id": "5ed7a846",
   "metadata": {},
   "source": [
    "INTERPRETATION:\n",
    " \n",
    "The test error in logistic model is lesser than the test error of the KNN model.\n",
    "Comparing the accuracy scores and test errors of the KNN model and the logistic regression model, we conclude that the logistic model performs better than the KNN model."
   ]
  },
  {
   "cell_type": "markdown",
   "id": "26933825",
   "metadata": {},
   "source": [
    "### 3. Observe the change in performance of the classifiers for the transformed data set using PCA."
   ]
  },
  {
   "cell_type": "code",
   "execution_count": 237,
   "id": "e4d1645d",
   "metadata": {},
   "outputs": [],
   "source": [
    "# Creating a Machine Learning Pipeline:\n",
    "\n",
    "_sc = StandardScaler()\n",
    "_pca = PCA(n_components = 6)\n",
    "_model = KNeighborsClassifier()\n",
    "\n",
    "# Logistic regression model using transformed data set using PCA:\n",
    "knn_model = Pipeline([\n",
    "    ('std_scaler', _sc),\n",
    "    ('pca', _pca),\n",
    "    ('regressor', _model)\n",
    "])"
   ]
  },
  {
   "cell_type": "code",
   "execution_count": 238,
   "id": "3c502c1e",
   "metadata": {},
   "outputs": [
    {
     "data": {
      "text/plain": [
       "Pipeline(steps=[('std_scaler', StandardScaler()), ('pca', PCA(n_components=6)),\n",
       "                ('regressor', KNeighborsClassifier())])"
      ]
     },
     "execution_count": 238,
     "metadata": {},
     "output_type": "execute_result"
    }
   ],
   "source": [
    "# Train-test split\n",
    "X_train, X_test, y_train, y_test = \\\n",
    "    train_test_split(X, y, \n",
    "                     test_size=0.3,\n",
    "                     shuffle=True, \n",
    "                     random_state= 33)\n",
    "\n",
    "# Training the model using the PCA components\n",
    "knn_model.fit(X_train,y_train)"
   ]
  },
  {
   "cell_type": "code",
   "execution_count": 239,
   "id": "4290595a",
   "metadata": {},
   "outputs": [
    {
     "name": "stdout",
     "output_type": "stream",
     "text": [
      "The accuracy of the logistic regression model after using transformed data using PCA is: 0.9649\n"
     ]
    }
   ],
   "source": [
    "# Accuracy \n",
    "acc = knn_model.score(X_test,y_test)\n",
    "print(\"The accuracy of the KNN model after using transformed data using PCA is:\" , round(acc,4))"
   ]
  },
  {
   "cell_type": "markdown",
   "id": "f98fc646",
   "metadata": {},
   "source": [
    "INTERPRETATION:\n",
    "\n",
    "Initialy, when we performed classification using KNN model, we obtained the accuracy score of 0.9239.\n",
    "After using the transformed data using PCA in the KNN model, we obtained an accuracy of 0.9649.\n",
    "\n",
    "\n",
    "CONCLUSION:\n",
    "\n",
    "Hence, we see that PCA has helped in increasing the accuracy of the model and we obtained a better performing model."
   ]
  }
 ],
 "metadata": {
  "kernelspec": {
   "display_name": "Python 3 (ipykernel)",
   "language": "python",
   "name": "python3"
  },
  "language_info": {
   "codemirror_mode": {
    "name": "ipython",
    "version": 3
   },
   "file_extension": ".py",
   "mimetype": "text/x-python",
   "name": "python",
   "nbconvert_exporter": "python",
   "pygments_lexer": "ipython3",
   "version": "3.10.9"
  }
 },
 "nbformat": 4,
 "nbformat_minor": 5
}
