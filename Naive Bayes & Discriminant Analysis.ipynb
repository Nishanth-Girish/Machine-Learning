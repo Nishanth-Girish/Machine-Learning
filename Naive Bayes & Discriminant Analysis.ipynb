{
 "cells": [
  {
   "cell_type": "markdown",
   "id": "77eb7ebc",
   "metadata": {},
   "source": [
    "### Topic: Generative Models for Classification (Discriminant Analysis, Naïve Bayes)\n"
   ]
  },
  {
   "cell_type": "markdown",
   "id": "aa18dcf1",
   "metadata": {},
   "source": [
    "                                                    \n",
    "### INTRODUCTION (LDA and QDA)\n",
    "\n",
    "Linear Discriminant Analysis (LinearDiscriminantAnalysis) and Quadratic Discriminant Analysis (QuadraticDiscriminantAnalysis) are two classic classifiers, with, as their names suggest, a linear and a quadratic decision surface, respectively.\n",
    "\n",
    "#### LDA\n",
    "\n",
    "LinearDiscriminantAnalysis can be used to perform supervised dimensionality reduction, by projecting the input data to a linear subspace consisting of the directions which maximize the separation between classes (in a precise sense discussed in the mathematics section below). The dimension of the output is necessarily less than the number of classes, so this is in general a rather strong dimensionality reduction, and only makes sense in a multiclass setting.\n",
    "\n",
    "#### QDA\n",
    "Quadratic Discriminant Analysis (QDA) is a generative model. QDA assumes that each class follow a Gaussian distribution. The class-specific prior is simply the proportion of data points that belong to the class. The class-specific mean vector is the average of the input variables that belong to the class\n",
    "\n",
    "Also, when considering between LDA & QDA its important to know that LDA is a much less flexible classifier than QDA, and so has substantially lower variance. This can potentially lead to improved prediction performance.\n",
    "\n",
    "#### Below we show an example of LDA and QDA using the weekly dataset"
   ]
  },
  {
   "cell_type": "markdown",
   "id": "9ccb33e7",
   "metadata": {},
   "source": [
    "#### Describing the Data(WEEKLY DATASET )\n",
    "\n",
    "This dataset represents the weekly percentage returns for the S&P 500 stock index between 1990 and 2010. It has 9 variables altogether where the Lags refer to the  percentage of return for the previous weeks,volume refers to the volume of shares traded, today is percentage return for this week and Direction is a factor with levels Down and Up indicating whether the market had a positive or negative return on a given week\n",
    "\n",
    "#### Objective:\n",
    "\n",
    "The objective of this assignment is to model the data using Linear Discriminant Analysis, QDA and Naive Bayes Method for Classification.\n",
    "\n",
    "### --------------------------------------------------------------------------------------------------------------------------------------------------------------"
   ]
  },
  {
   "cell_type": "code",
   "execution_count": 3,
   "id": "3b0875f0",
   "metadata": {},
   "outputs": [],
   "source": [
    "#Importing necessary Libraries\n",
    "\n",
    "import pandas as pd\n",
    "import numpy as np\n",
    "import seaborn as sns\n",
    "    \n",
    "from matplotlib import pyplot as plt\n",
    "import statsmodels.api as sm\n",
    "import statsmodels.formula.api as smf\n",
    "\n",
    "from sklearn.model_selection import train_test_split\n",
    "from sklearn.metrics import confusion_matrix\n",
    "from sklearn.metrics import accuracy_score\n",
    "from sklearn.metrics import precision_score\n",
    "\n",
    "from sklearn.discriminant_analysis import LinearDiscriminantAnalysis\n",
    "from sklearn.discriminant_analysis import QuadraticDiscriminantAnalysis\n",
    "from sklearn.naive_bayes import GaussianNB\n"
   ]
  },
  {
   "cell_type": "code",
   "execution_count": 4,
   "id": "6bcbe67e",
   "metadata": {
    "scrolled": false
   },
   "outputs": [
    {
     "data": {
      "text/html": [
       "<div>\n",
       "<style scoped>\n",
       "    .dataframe tbody tr th:only-of-type {\n",
       "        vertical-align: middle;\n",
       "    }\n",
       "\n",
       "    .dataframe tbody tr th {\n",
       "        vertical-align: top;\n",
       "    }\n",
       "\n",
       "    .dataframe thead th {\n",
       "        text-align: right;\n",
       "    }\n",
       "</style>\n",
       "<table border=\"1\" class=\"dataframe\">\n",
       "  <thead>\n",
       "    <tr style=\"text-align: right;\">\n",
       "      <th></th>\n",
       "      <th>Year</th>\n",
       "      <th>Lag1</th>\n",
       "      <th>Lag2</th>\n",
       "      <th>Lag3</th>\n",
       "      <th>Lag4</th>\n",
       "      <th>Lag5</th>\n",
       "      <th>Volume</th>\n",
       "      <th>Today</th>\n",
       "      <th>Direction</th>\n",
       "    </tr>\n",
       "  </thead>\n",
       "  <tbody>\n",
       "    <tr>\n",
       "      <th>0</th>\n",
       "      <td>1990</td>\n",
       "      <td>0.816</td>\n",
       "      <td>1.572</td>\n",
       "      <td>-3.936</td>\n",
       "      <td>-0.229</td>\n",
       "      <td>-3.484</td>\n",
       "      <td>0.154976</td>\n",
       "      <td>-0.270</td>\n",
       "      <td>Down</td>\n",
       "    </tr>\n",
       "    <tr>\n",
       "      <th>1</th>\n",
       "      <td>1990</td>\n",
       "      <td>-0.270</td>\n",
       "      <td>0.816</td>\n",
       "      <td>1.572</td>\n",
       "      <td>-3.936</td>\n",
       "      <td>-0.229</td>\n",
       "      <td>0.148574</td>\n",
       "      <td>-2.576</td>\n",
       "      <td>Down</td>\n",
       "    </tr>\n",
       "    <tr>\n",
       "      <th>2</th>\n",
       "      <td>1990</td>\n",
       "      <td>-2.576</td>\n",
       "      <td>-0.270</td>\n",
       "      <td>0.816</td>\n",
       "      <td>1.572</td>\n",
       "      <td>-3.936</td>\n",
       "      <td>0.159837</td>\n",
       "      <td>3.514</td>\n",
       "      <td>Up</td>\n",
       "    </tr>\n",
       "    <tr>\n",
       "      <th>3</th>\n",
       "      <td>1990</td>\n",
       "      <td>3.514</td>\n",
       "      <td>-2.576</td>\n",
       "      <td>-0.270</td>\n",
       "      <td>0.816</td>\n",
       "      <td>1.572</td>\n",
       "      <td>0.161630</td>\n",
       "      <td>0.712</td>\n",
       "      <td>Up</td>\n",
       "    </tr>\n",
       "    <tr>\n",
       "      <th>4</th>\n",
       "      <td>1990</td>\n",
       "      <td>0.712</td>\n",
       "      <td>3.514</td>\n",
       "      <td>-2.576</td>\n",
       "      <td>-0.270</td>\n",
       "      <td>0.816</td>\n",
       "      <td>0.153728</td>\n",
       "      <td>1.178</td>\n",
       "      <td>Up</td>\n",
       "    </tr>\n",
       "    <tr>\n",
       "      <th>...</th>\n",
       "      <td>...</td>\n",
       "      <td>...</td>\n",
       "      <td>...</td>\n",
       "      <td>...</td>\n",
       "      <td>...</td>\n",
       "      <td>...</td>\n",
       "      <td>...</td>\n",
       "      <td>...</td>\n",
       "      <td>...</td>\n",
       "    </tr>\n",
       "    <tr>\n",
       "      <th>1084</th>\n",
       "      <td>2010</td>\n",
       "      <td>-0.861</td>\n",
       "      <td>0.043</td>\n",
       "      <td>-2.173</td>\n",
       "      <td>3.599</td>\n",
       "      <td>0.015</td>\n",
       "      <td>3.205160</td>\n",
       "      <td>2.969</td>\n",
       "      <td>Up</td>\n",
       "    </tr>\n",
       "    <tr>\n",
       "      <th>1085</th>\n",
       "      <td>2010</td>\n",
       "      <td>2.969</td>\n",
       "      <td>-0.861</td>\n",
       "      <td>0.043</td>\n",
       "      <td>-2.173</td>\n",
       "      <td>3.599</td>\n",
       "      <td>4.242568</td>\n",
       "      <td>1.281</td>\n",
       "      <td>Up</td>\n",
       "    </tr>\n",
       "    <tr>\n",
       "      <th>1086</th>\n",
       "      <td>2010</td>\n",
       "      <td>1.281</td>\n",
       "      <td>2.969</td>\n",
       "      <td>-0.861</td>\n",
       "      <td>0.043</td>\n",
       "      <td>-2.173</td>\n",
       "      <td>4.835082</td>\n",
       "      <td>0.283</td>\n",
       "      <td>Up</td>\n",
       "    </tr>\n",
       "    <tr>\n",
       "      <th>1087</th>\n",
       "      <td>2010</td>\n",
       "      <td>0.283</td>\n",
       "      <td>1.281</td>\n",
       "      <td>2.969</td>\n",
       "      <td>-0.861</td>\n",
       "      <td>0.043</td>\n",
       "      <td>4.454044</td>\n",
       "      <td>1.034</td>\n",
       "      <td>Up</td>\n",
       "    </tr>\n",
       "    <tr>\n",
       "      <th>1088</th>\n",
       "      <td>2010</td>\n",
       "      <td>1.034</td>\n",
       "      <td>0.283</td>\n",
       "      <td>1.281</td>\n",
       "      <td>2.969</td>\n",
       "      <td>-0.861</td>\n",
       "      <td>2.707105</td>\n",
       "      <td>0.069</td>\n",
       "      <td>Up</td>\n",
       "    </tr>\n",
       "  </tbody>\n",
       "</table>\n",
       "<p>1089 rows × 9 columns</p>\n",
       "</div>"
      ],
      "text/plain": [
       "      Year   Lag1   Lag2   Lag3   Lag4   Lag5    Volume  Today Direction\n",
       "0     1990  0.816  1.572 -3.936 -0.229 -3.484  0.154976 -0.270      Down\n",
       "1     1990 -0.270  0.816  1.572 -3.936 -0.229  0.148574 -2.576      Down\n",
       "2     1990 -2.576 -0.270  0.816  1.572 -3.936  0.159837  3.514        Up\n",
       "3     1990  3.514 -2.576 -0.270  0.816  1.572  0.161630  0.712        Up\n",
       "4     1990  0.712  3.514 -2.576 -0.270  0.816  0.153728  1.178        Up\n",
       "...    ...    ...    ...    ...    ...    ...       ...    ...       ...\n",
       "1084  2010 -0.861  0.043 -2.173  3.599  0.015  3.205160  2.969        Up\n",
       "1085  2010  2.969 -0.861  0.043 -2.173  3.599  4.242568  1.281        Up\n",
       "1086  2010  1.281  2.969 -0.861  0.043 -2.173  4.835082  0.283        Up\n",
       "1087  2010  0.283  1.281  2.969 -0.861  0.043  4.454044  1.034        Up\n",
       "1088  2010  1.034  0.283  1.281  2.969 -0.861  2.707105  0.069        Up\n",
       "\n",
       "[1089 rows x 9 columns]"
      ]
     },
     "execution_count": 4,
     "metadata": {},
     "output_type": "execute_result"
    }
   ],
   "source": [
    "#importing the dataset\n",
    "\n",
    "week=pd.read_csv(\"D:/Machine Learning Practical/Lab Exercises/Lab 3/Program 1/Weekly.csv\")\n",
    "week"
   ]
  },
  {
   "cell_type": "code",
   "execution_count": 5,
   "id": "cd2bf4fe",
   "metadata": {},
   "outputs": [
    {
     "data": {
      "text/html": [
       "<div>\n",
       "<style scoped>\n",
       "    .dataframe tbody tr th:only-of-type {\n",
       "        vertical-align: middle;\n",
       "    }\n",
       "\n",
       "    .dataframe tbody tr th {\n",
       "        vertical-align: top;\n",
       "    }\n",
       "\n",
       "    .dataframe thead th {\n",
       "        text-align: right;\n",
       "    }\n",
       "</style>\n",
       "<table border=\"1\" class=\"dataframe\">\n",
       "  <thead>\n",
       "    <tr style=\"text-align: right;\">\n",
       "      <th></th>\n",
       "      <th>Year</th>\n",
       "      <th>Lag1</th>\n",
       "      <th>Lag2</th>\n",
       "      <th>Lag3</th>\n",
       "      <th>Lag4</th>\n",
       "      <th>Lag5</th>\n",
       "      <th>Volume</th>\n",
       "      <th>Today</th>\n",
       "      <th>Direction_Up</th>\n",
       "    </tr>\n",
       "  </thead>\n",
       "  <tbody>\n",
       "    <tr>\n",
       "      <th>0</th>\n",
       "      <td>1990</td>\n",
       "      <td>0.816</td>\n",
       "      <td>1.572</td>\n",
       "      <td>-3.936</td>\n",
       "      <td>-0.229</td>\n",
       "      <td>-3.484</td>\n",
       "      <td>0.154976</td>\n",
       "      <td>-0.270</td>\n",
       "      <td>0</td>\n",
       "    </tr>\n",
       "    <tr>\n",
       "      <th>1</th>\n",
       "      <td>1990</td>\n",
       "      <td>-0.270</td>\n",
       "      <td>0.816</td>\n",
       "      <td>1.572</td>\n",
       "      <td>-3.936</td>\n",
       "      <td>-0.229</td>\n",
       "      <td>0.148574</td>\n",
       "      <td>-2.576</td>\n",
       "      <td>0</td>\n",
       "    </tr>\n",
       "    <tr>\n",
       "      <th>2</th>\n",
       "      <td>1990</td>\n",
       "      <td>-2.576</td>\n",
       "      <td>-0.270</td>\n",
       "      <td>0.816</td>\n",
       "      <td>1.572</td>\n",
       "      <td>-3.936</td>\n",
       "      <td>0.159837</td>\n",
       "      <td>3.514</td>\n",
       "      <td>1</td>\n",
       "    </tr>\n",
       "    <tr>\n",
       "      <th>3</th>\n",
       "      <td>1990</td>\n",
       "      <td>3.514</td>\n",
       "      <td>-2.576</td>\n",
       "      <td>-0.270</td>\n",
       "      <td>0.816</td>\n",
       "      <td>1.572</td>\n",
       "      <td>0.161630</td>\n",
       "      <td>0.712</td>\n",
       "      <td>1</td>\n",
       "    </tr>\n",
       "    <tr>\n",
       "      <th>4</th>\n",
       "      <td>1990</td>\n",
       "      <td>0.712</td>\n",
       "      <td>3.514</td>\n",
       "      <td>-2.576</td>\n",
       "      <td>-0.270</td>\n",
       "      <td>0.816</td>\n",
       "      <td>0.153728</td>\n",
       "      <td>1.178</td>\n",
       "      <td>1</td>\n",
       "    </tr>\n",
       "  </tbody>\n",
       "</table>\n",
       "</div>"
      ],
      "text/plain": [
       "   Year   Lag1   Lag2   Lag3   Lag4   Lag5    Volume  Today  Direction_Up\n",
       "0  1990  0.816  1.572 -3.936 -0.229 -3.484  0.154976 -0.270             0\n",
       "1  1990 -0.270  0.816  1.572 -3.936 -0.229  0.148574 -2.576             0\n",
       "2  1990 -2.576 -0.270  0.816  1.572 -3.936  0.159837  3.514             1\n",
       "3  1990  3.514 -2.576 -0.270  0.816  1.572  0.161630  0.712             1\n",
       "4  1990  0.712  3.514 -2.576 -0.270  0.816  0.153728  1.178             1"
      ]
     },
     "execution_count": 5,
     "metadata": {},
     "output_type": "execute_result"
    }
   ],
   "source": [
    "#Getty dummy variable for categorical variable\n",
    "\n",
    "week = pd.get_dummies(week).drop('Direction_Down', axis=1)\n",
    "week.head()"
   ]
  },
  {
   "cell_type": "markdown",
   "id": "2d712a5e",
   "metadata": {},
   "source": [
    "### 1. Fit the LDA model using a training data period from 1990 to 2008. Compute the confusion matrix and the overall fraction of correct predictions for the held out data (that is, the data from 2009 and 2010)."
   ]
  },
  {
   "cell_type": "code",
   "execution_count": 1,
   "id": "7aef0dec",
   "metadata": {},
   "outputs": [
    {
     "ename": "NameError",
     "evalue": "name 'week' is not defined",
     "output_type": "error",
     "traceback": [
      "\u001b[1;31m---------------------------------------------------------------------------\u001b[0m",
      "\u001b[1;31mNameError\u001b[0m                                 Traceback (most recent call last)",
      "Input \u001b[1;32mIn [1]\u001b[0m, in \u001b[0;36m<cell line: 2>\u001b[1;34m()\u001b[0m\n\u001b[0;32m      1\u001b[0m \u001b[38;5;66;03m#Splitting into Training and Testing\u001b[39;00m\n\u001b[1;32m----> 2\u001b[0m b \u001b[38;5;241m=\u001b[39m \u001b[43mweek\u001b[49m\u001b[38;5;241m.\u001b[39mindex[week[\u001b[38;5;124m'\u001b[39m\u001b[38;5;124mYear\u001b[39m\u001b[38;5;124m'\u001b[39m] \u001b[38;5;241m<\u001b[39m \u001b[38;5;241m2009\u001b[39m]\n\u001b[0;32m      3\u001b[0m week_train \u001b[38;5;241m=\u001b[39m week\u001b[38;5;241m.\u001b[39miloc[b] \u001b[38;5;66;03m#dataframe with years less than 2008\u001b[39;00m\n\u001b[0;32m      4\u001b[0m week_test  \u001b[38;5;241m=\u001b[39m week\u001b[38;5;241m.\u001b[39mdrop(b) \u001b[38;5;66;03m#dataframe with years more than 2009\u001b[39;00m\n",
      "\u001b[1;31mNameError\u001b[0m: name 'week' is not defined"
     ]
    }
   ],
   "source": [
    "#Splitting into Training and Testing\n",
    "b = week.index[week['Year'] < 2009]\n",
    "week_train = week.iloc[b] #dataframe with years less than 2008\n",
    "week_test  = week.drop(b) #dataframe with years more than 2009\n",
    "\n",
    "y_test = pd.DataFrame(week_test['Direction_Up'])\n",
    "y_train= pd.DataFrame(week_train['Direction_Up'])\n",
    "\n",
    "X_test=week_test.drop(['Direction_Up'],axis=1)\n",
    "X_train=week_train.drop(['Direction_Up'],axis=1)"
   ]
  },
  {
   "cell_type": "code",
   "execution_count": 13,
   "id": "820f608b",
   "metadata": {},
   "outputs": [
    {
     "name": "stderr",
     "output_type": "stream",
     "text": [
      "C:\\Users\\jesto\\anaconda3\\lib\\site-packages\\sklearn\\utils\\validation.py:993: DataConversionWarning: A column-vector y was passed when a 1d array was expected. Please change the shape of y to (n_samples, ), for example using ravel().\n",
      "  y = column_or_1d(y, warn=True)\n"
     ]
    },
    {
     "data": {
      "text/plain": [
       "array([[36,  7],\n",
       "       [ 0, 61]], dtype=int64)"
      ]
     },
     "execution_count": 13,
     "metadata": {},
     "output_type": "execute_result"
    }
   ],
   "source": [
    "#Fitting LDA model\n",
    "\n",
    "model_lda = LinearDiscriminantAnalysis().fit(X_train, y_train)\n",
    "\n",
    "# Predict\n",
    "y_pred_lda = model_lda.predict(X_test)\n",
    "\n",
    "# Confusion table\n",
    "conf_lda = confusion_matrix(y_test, y_pred_lda)\n",
    "conf_lda"
   ]
  },
  {
   "cell_type": "code",
   "execution_count": 14,
   "id": "97f31b67",
   "metadata": {},
   "outputs": [
    {
     "name": "stdout",
     "output_type": "stream",
     "text": [
      "0.9326923076923077\n",
      "0.06730769230769229\n"
     ]
    }
   ],
   "source": [
    "# Compute fraction of predictions that are correct\n",
    "\n",
    "#error rate for LDA\n",
    "test_error_lda= 1 - model_lda.score(X_test,y_test)\n",
    "\n",
    "#accuracy score() for lDA\n",
    "correct_rate_lda = 1 - test_error_lda\n",
    "correct_rate_lda\n",
    "\n",
    "#or\n",
    "\n",
    "print(accuracy_score(y_test,y_pred_lda))\n",
    "print(test_error_lda)\n"
   ]
  },
  {
   "cell_type": "markdown",
   "id": "cf7baa6b",
   "metadata": {},
   "source": [
    "##### Interpretations: Hence 93.2 % of the predictions are correct, with 67.3 percent error rate."
   ]
  },
  {
   "cell_type": "markdown",
   "id": "9dfe00fc",
   "metadata": {},
   "source": [
    "### 2. Fit the QDA model  for the same dataset"
   ]
  },
  {
   "cell_type": "code",
   "execution_count": 18,
   "id": "9a51a35e",
   "metadata": {},
   "outputs": [
    {
     "name": "stderr",
     "output_type": "stream",
     "text": [
      "C:\\Users\\jesto\\anaconda3\\lib\\site-packages\\sklearn\\utils\\validation.py:993: DataConversionWarning: A column-vector y was passed when a 1d array was expected. Please change the shape of y to (n_samples, ), for example using ravel().\n",
      "  y = column_or_1d(y, warn=True)\n"
     ]
    },
    {
     "data": {
      "text/plain": [
       "array([[43,  0],\n",
       "       [12, 49]], dtype=int64)"
      ]
     },
     "execution_count": 18,
     "metadata": {},
     "output_type": "execute_result"
    }
   ],
   "source": [
    "#Modelling the Data using QDA\n",
    "\n",
    "model_qda = QuadraticDiscriminantAnalysis().fit(X_train, y_train)\n",
    "y_pred_qda = model_qda.predict(X_test)\n",
    "\n",
    "#Confusion Matrix for QDA\n",
    "conf_qda = confusion_matrix(y_test, y_pred_qda)\n",
    "conf_qda"
   ]
  },
  {
   "cell_type": "code",
   "execution_count": 19,
   "id": "427307e5",
   "metadata": {},
   "outputs": [
    {
     "name": "stdout",
     "output_type": "stream",
     "text": [
      "0.8846153846153846\n",
      "0.11538461538461542\n"
     ]
    }
   ],
   "source": [
    "#Computing fraction of predictions that are correct\n",
    "\n",
    "#error rate for QDA\n",
    "test_error_qda= 1 - model_qda.score(X_test,y_test)\n",
    "\n",
    "#accuracy score() for QDA\n",
    "correct_rate_qda = 1 - test_error_qda\n",
    "correct_rate_qda\n",
    "\n",
    "#or\n",
    "\n",
    "print(accuracy_score(y_test,y_pred_qda))\n",
    "print(test_error_qda)"
   ]
  },
  {
   "cell_type": "markdown",
   "id": "c4f0945d",
   "metadata": {},
   "source": [
    "##### Interpretations: Hence 88.4 % of the predictions are correct, with 11.5 percent error rate."
   ]
  },
  {
   "cell_type": "code",
   "execution_count": 20,
   "id": "9142a908",
   "metadata": {
    "scrolled": true
   },
   "outputs": [
    {
     "data": {
      "image/png": "[encoded data removed]",
      "text/plain": [
       "<Figure size 640x480 with 2 Axes>"
      ]
     },
     "metadata": {},
     "output_type": "display_data"
    }
   ],
   "source": [
    "#Comparing Results between LDA and QDA\n",
    "\n",
    "#TEST ERROR RATE OF LDA and QDA\n",
    "x=[\"LDA\",\"QDA\"]\n",
    "total_error=[test_error_lda,test_error_qda]\n",
    "accuracy=[accuracy_score(y_test,y_pred_lda),accuracy_score(y_test,y_pred_qda)]\n",
    "\n",
    "#Plot\n",
    "plt.subplot(1,2,1)\n",
    "ax = sns.barplot(x=x, y=total_error)\n",
    "plt.title(\"Total Error Rate\")\n",
    "\n",
    "plt.subplot(1,2,2)\n",
    "ax = sns.barplot(x=x, y=accuracy)\n",
    "plt.title(\"Accuracy\")\n",
    "\n",
    "#saving\n",
    "plt.savefig(\"D:/Machine Learning Practical/Lab Exercises/Lab 4 (CAC 1)/lda_qda.png\")"
   ]
  },
  {
   "cell_type": "markdown",
   "id": "18041d34",
   "metadata": {},
   "source": [
    "##### Interpretation: We see from the bar plots that the error of LDA is lesser compared to QDA. This means that LDA makes the lowest number of wrong predictions. The accuracy of LDA is simultaneosly more than QDA. Hence we can conclude that LDA model is on an overall better than QDA.\n"
   ]
  },
  {
   "cell_type": "markdown",
   "id": "6d096f09",
   "metadata": {},
   "source": [
    "### 3. Naive Baeye's Method "
   ]
  },
  {
   "cell_type": "markdown",
   "id": "22a72e21",
   "metadata": {},
   "source": [
    "#### Introduction\n",
    "\n",
    "Naive Bayes is the easiest and rapid classification method available, and it is well suited for dealing with enormous amounts of information. In several applications such as spam filtering, text classification, sentiment analysis, and recommender systems, the Naive Bayes classifier has shown to be effective. It makes predictions about unknown classes using the Bayes theory of probability.\n",
    "\n",
    "#### Characteristics of Naive Bayes Classifier:\n",
    "\n",
    "    1.The Naive Bayes method makes the assumption that the predictors contribute equally and independently to selecting the output class. \n",
    "\n",
    "    2. Although the Naive Bayes model’s assumption that all predictors are independent of one another is unfeasible in real-world circumstances, this assumption produces a satisfactory outcome in the majority of instances.\n",
    "\n",
    "    3. Naive Bayes is often used for text categorization since the dimensionality of the data is frequently rather large.\n",
    "    \n",
    "#### Types of Naive Bayes Classifiers\n",
    "\n",
    "    1. Gaussian Naive Bayes: This classifier is employed when the predictor values are continuous and are expected to follow a Gaussian distribution.\n",
    "    2. Bernoulli Naive Bayes: When the predictors are boolean in nature and are supposed to follow the Bernoulli distribution, this classifier is utilized.\n",
    "    3. Multinomial Naive Bayes: This classifier makes use of a multinomial distribution and is often used to solve issues involving document or text classification."
   ]
  },
  {
   "cell_type": "code",
   "execution_count": 21,
   "id": "5db6de78",
   "metadata": {},
   "outputs": [
    {
     "data": {
      "text/html": [
       "<div>\n",
       "<style scoped>\n",
       "    .dataframe tbody tr th:only-of-type {\n",
       "        vertical-align: middle;\n",
       "    }\n",
       "\n",
       "    .dataframe tbody tr th {\n",
       "        vertical-align: top;\n",
       "    }\n",
       "\n",
       "    .dataframe thead th {\n",
       "        text-align: right;\n",
       "    }\n",
       "</style>\n",
       "<table border=\"1\" class=\"dataframe\">\n",
       "  <thead>\n",
       "    <tr style=\"text-align: right;\">\n",
       "      <th></th>\n",
       "      <th>Year</th>\n",
       "      <th>Lag1</th>\n",
       "      <th>Lag2</th>\n",
       "      <th>Lag3</th>\n",
       "      <th>Lag4</th>\n",
       "      <th>Lag5</th>\n",
       "      <th>Volume</th>\n",
       "      <th>Today</th>\n",
       "      <th>Direction_Up</th>\n",
       "    </tr>\n",
       "  </thead>\n",
       "  <tbody>\n",
       "    <tr>\n",
       "      <th>0</th>\n",
       "      <td>1990</td>\n",
       "      <td>0.816</td>\n",
       "      <td>1.572</td>\n",
       "      <td>-3.936</td>\n",
       "      <td>-0.229</td>\n",
       "      <td>-3.484</td>\n",
       "      <td>0.154976</td>\n",
       "      <td>-0.270</td>\n",
       "      <td>0</td>\n",
       "    </tr>\n",
       "    <tr>\n",
       "      <th>1</th>\n",
       "      <td>1990</td>\n",
       "      <td>-0.270</td>\n",
       "      <td>0.816</td>\n",
       "      <td>1.572</td>\n",
       "      <td>-3.936</td>\n",
       "      <td>-0.229</td>\n",
       "      <td>0.148574</td>\n",
       "      <td>-2.576</td>\n",
       "      <td>0</td>\n",
       "    </tr>\n",
       "    <tr>\n",
       "      <th>2</th>\n",
       "      <td>1990</td>\n",
       "      <td>-2.576</td>\n",
       "      <td>-0.270</td>\n",
       "      <td>0.816</td>\n",
       "      <td>1.572</td>\n",
       "      <td>-3.936</td>\n",
       "      <td>0.159837</td>\n",
       "      <td>3.514</td>\n",
       "      <td>1</td>\n",
       "    </tr>\n",
       "    <tr>\n",
       "      <th>3</th>\n",
       "      <td>1990</td>\n",
       "      <td>3.514</td>\n",
       "      <td>-2.576</td>\n",
       "      <td>-0.270</td>\n",
       "      <td>0.816</td>\n",
       "      <td>1.572</td>\n",
       "      <td>0.161630</td>\n",
       "      <td>0.712</td>\n",
       "      <td>1</td>\n",
       "    </tr>\n",
       "    <tr>\n",
       "      <th>4</th>\n",
       "      <td>1990</td>\n",
       "      <td>0.712</td>\n",
       "      <td>3.514</td>\n",
       "      <td>-2.576</td>\n",
       "      <td>-0.270</td>\n",
       "      <td>0.816</td>\n",
       "      <td>0.153728</td>\n",
       "      <td>1.178</td>\n",
       "      <td>1</td>\n",
       "    </tr>\n",
       "    <tr>\n",
       "      <th>...</th>\n",
       "      <td>...</td>\n",
       "      <td>...</td>\n",
       "      <td>...</td>\n",
       "      <td>...</td>\n",
       "      <td>...</td>\n",
       "      <td>...</td>\n",
       "      <td>...</td>\n",
       "      <td>...</td>\n",
       "      <td>...</td>\n",
       "    </tr>\n",
       "    <tr>\n",
       "      <th>1084</th>\n",
       "      <td>2010</td>\n",
       "      <td>-0.861</td>\n",
       "      <td>0.043</td>\n",
       "      <td>-2.173</td>\n",
       "      <td>3.599</td>\n",
       "      <td>0.015</td>\n",
       "      <td>3.205160</td>\n",
       "      <td>2.969</td>\n",
       "      <td>1</td>\n",
       "    </tr>\n",
       "    <tr>\n",
       "      <th>1085</th>\n",
       "      <td>2010</td>\n",
       "      <td>2.969</td>\n",
       "      <td>-0.861</td>\n",
       "      <td>0.043</td>\n",
       "      <td>-2.173</td>\n",
       "      <td>3.599</td>\n",
       "      <td>4.242568</td>\n",
       "      <td>1.281</td>\n",
       "      <td>1</td>\n",
       "    </tr>\n",
       "    <tr>\n",
       "      <th>1086</th>\n",
       "      <td>2010</td>\n",
       "      <td>1.281</td>\n",
       "      <td>2.969</td>\n",
       "      <td>-0.861</td>\n",
       "      <td>0.043</td>\n",
       "      <td>-2.173</td>\n",
       "      <td>4.835082</td>\n",
       "      <td>0.283</td>\n",
       "      <td>1</td>\n",
       "    </tr>\n",
       "    <tr>\n",
       "      <th>1087</th>\n",
       "      <td>2010</td>\n",
       "      <td>0.283</td>\n",
       "      <td>1.281</td>\n",
       "      <td>2.969</td>\n",
       "      <td>-0.861</td>\n",
       "      <td>0.043</td>\n",
       "      <td>4.454044</td>\n",
       "      <td>1.034</td>\n",
       "      <td>1</td>\n",
       "    </tr>\n",
       "    <tr>\n",
       "      <th>1088</th>\n",
       "      <td>2010</td>\n",
       "      <td>1.034</td>\n",
       "      <td>0.283</td>\n",
       "      <td>1.281</td>\n",
       "      <td>2.969</td>\n",
       "      <td>-0.861</td>\n",
       "      <td>2.707105</td>\n",
       "      <td>0.069</td>\n",
       "      <td>1</td>\n",
       "    </tr>\n",
       "  </tbody>\n",
       "</table>\n",
       "<p>1089 rows × 9 columns</p>\n",
       "</div>"
      ],
      "text/plain": [
       "      Year   Lag1   Lag2   Lag3   Lag4   Lag5    Volume  Today  Direction_Up\n",
       "0     1990  0.816  1.572 -3.936 -0.229 -3.484  0.154976 -0.270             0\n",
       "1     1990 -0.270  0.816  1.572 -3.936 -0.229  0.148574 -2.576             0\n",
       "2     1990 -2.576 -0.270  0.816  1.572 -3.936  0.159837  3.514             1\n",
       "3     1990  3.514 -2.576 -0.270  0.816  1.572  0.161630  0.712             1\n",
       "4     1990  0.712  3.514 -2.576 -0.270  0.816  0.153728  1.178             1\n",
       "...    ...    ...    ...    ...    ...    ...       ...    ...           ...\n",
       "1084  2010 -0.861  0.043 -2.173  3.599  0.015  3.205160  2.969             1\n",
       "1085  2010  2.969 -0.861  0.043 -2.173  3.599  4.242568  1.281             1\n",
       "1086  2010  1.281  2.969 -0.861  0.043 -2.173  4.835082  0.283             1\n",
       "1087  2010  0.283  1.281  2.969 -0.861  0.043  4.454044  1.034             1\n",
       "1088  2010  1.034  0.283  1.281  2.969 -0.861  2.707105  0.069             1\n",
       "\n",
       "[1089 rows x 9 columns]"
      ]
     },
     "execution_count": 21,
     "metadata": {},
     "output_type": "execute_result"
    }
   ],
   "source": [
    "#Dataset\n",
    "week"
   ]
  },
  {
   "cell_type": "markdown",
   "id": "f7272032",
   "metadata": {},
   "source": [
    "##### Note: We see that our predictors are having continous values hence we go with Gaussian Naive Baye's"
   ]
  },
  {
   "cell_type": "code",
   "execution_count": 23,
   "id": "16b7af8a",
   "metadata": {
    "scrolled": true
   },
   "outputs": [
    {
     "name": "stderr",
     "output_type": "stream",
     "text": [
      "C:\\Users\\jesto\\anaconda3\\lib\\site-packages\\numpy\\core\\fromnumeric.py:84: FutureWarning: In a future version, DataFrame.min(axis=None) will return a scalar min over the entire DataFrame. To retain the old behavior, use 'frame.min(axis=0)' or just 'frame.min()'\n",
      "  return reduction(axis=axis, out=out, **passkwargs)\n",
      "C:\\Users\\jesto\\anaconda3\\lib\\site-packages\\numpy\\core\\fromnumeric.py:84: FutureWarning: In a future version, DataFrame.max(axis=None) will return a scalar max over the entire DataFrame. To retain the old behavior, use 'frame.max(axis=0)' or just 'frame.max()'\n",
      "  return reduction(axis=axis, out=out, **passkwargs)\n"
     ]
    }
   ],
   "source": [
    "#Defining Predictors and Response Varibale\n",
    "\n",
    "X_n=week.drop([\"Direction_Up\"],axis=1)\n",
    "y_n=week[\"Direction_Up\"]\n",
    "\n",
    "#To maximize the model’s efficiency, it’s always a good idea to normalize the data to a common scale.\n",
    "X_n=(X_n-np.min(X_n))/(np.max(X_n)- np.min(X_n))\n",
    "\n",
    "#Training and Testing Data\n",
    "X_train_n, X_test_n, y_train_n, y_test_n = train_test_split(X_n, y_n, test_size = 0.3, random_state = 1)\n"
   ]
  },
  {
   "cell_type": "markdown",
   "id": "4e41aadb",
   "metadata": {},
   "source": [
    "#### *Using Gausian Naive Baye's"
   ]
  },
  {
   "cell_type": "code",
   "execution_count": 27,
   "id": "a797dd15",
   "metadata": {},
   "outputs": [
    {
     "name": "stdout",
     "output_type": "stream",
     "text": [
      "0.9571865443425076\n",
      "0.042813455657492394\n"
     ]
    }
   ],
   "source": [
    "from sklearn.naive_bayes import GaussianNB\n",
    "\n",
    "#model\n",
    "model_naive=GaussianNB().fit(X_train_n, y_train_n)\n",
    "\n",
    "#prediction\n",
    "y_pred_n = model_naive.predict(X_test_n)\n",
    "\n",
    "#Error rate for Naive Bayes\n",
    "test_error_naive= 1 - model_naive.score(X_test_n,y_test_n)\n",
    "\n",
    "#Accuracy score for Naive Bayes\n",
    "correct_rate_naive = 1 - test_error_naive\n",
    "correct_rate_naive\n",
    "\n",
    "#or\n",
    "\n",
    "print(accuracy_score(y_test_n,y_pred_n))\n",
    "print(test_error_naive)"
   ]
  },
  {
   "cell_type": "markdown",
   "id": "21a95161",
   "metadata": {},
   "source": [
    "##### Interpretations: Hence 95.71 % of the predictions are correct, with 42.8% error rate."
   ]
  },
  {
   "cell_type": "code",
   "execution_count": 28,
   "id": "9c5b46e0",
   "metadata": {
    "scrolled": true
   },
   "outputs": [
    {
     "data": {
      "image/png": "[encoded data removed]",
      "text/plain": [
       "<Figure size 640x480 with 2 Axes>"
      ]
     },
     "metadata": {},
     "output_type": "display_data"
    }
   ],
   "source": [
    "#Comparing Results between LDA ,QDA AND NAICE BAYES\n",
    "\n",
    "#TEST ERROR RATE OF LDA and QDA\n",
    "x=[\"LDA\",\"QDA\",\"NAIVE BAYES\"]\n",
    "total_error=[test_error_lda,test_error_qda,test_error_naive]\n",
    "accuracy=[accuracy_score(y_test,y_pred_lda),accuracy_score(y_test,y_pred_qda),accuracy_score(y_test_n,y_pred_n)]\n",
    "\n",
    "#Plot\n",
    "plt.subplot(1,2,1)\n",
    "ax = sns.barplot(x=x, y=total_error)\n",
    "plt.title(\"Total Error Rate\")\n",
    "\n",
    "plt.subplot(1,2,2)\n",
    "ax = sns.barplot(x=x, y=accuracy)\n",
    "plt.title(\"Accuracy\")\n",
    "\n",
    "#saving\n",
    "plt.savefig(\"D:/Machine Learning Practical/Lab Exercises/Lab 4 (CAC 1)/lda_qda_naive.png\")"
   ]
  },
  {
   "cell_type": "markdown",
   "id": "6a1db855",
   "metadata": {},
   "source": [
    "#### CONCLUSION:\n",
    "\n",
    "We see from the bar plots that the error of Naive Baye's is much lesser compared to the other two methods. This means that Naive Baye's makes the lowest number of wrong predictions. The accuracy of Naive Baye's is more than the other two methods. Hence we can conclude and confirm that Naive Baye's model is on an overall better than the others for these particular predictors and response variables.\n"
   ]
  }
 ],
 "metadata": {
  "kernelspec": {
   "display_name": "Python 3 (ipykernel)",
   "language": "python",
   "name": "python3"
  },
  "language_info": {
   "codemirror_mode": {
    "name": "ipython",
    "version": 3
   },
   "file_extension": ".py",
   "mimetype": "text/x-python",
   "name": "python",
   "nbconvert_exporter": "python",
   "pygments_lexer": "ipython3",
   "version": "3.10.9"
  }
 },
 "nbformat": 4,
 "nbformat_minor": 5
}
